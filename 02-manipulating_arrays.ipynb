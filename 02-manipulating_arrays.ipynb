{
 "cells": [
  {
   "cell_type": "markdown",
   "metadata": {},
   "source": [
    "# Manipulating arrays"
   ]
  },
  {
   "cell_type": "markdown",
   "metadata": {},
   "source": [
    "## $ \\S 1 $ Basic operations on vectors\n",
    "\n",
    "We saw in the previous notebook that a vector such as $ (1, 2, 3) $\n",
    "can be represented in NumPy as a $ 1D $ array:"
   ]
  },
  {
   "cell_type": "code",
   "execution_count": 1,
   "metadata": {},
   "outputs": [],
   "source": [
    "import numpy as np\n",
    "\n",
    "v = np.array([1, 2, 3])\n",
    "w = np.array([4, 5, 6])"
   ]
  },
  {
   "cell_type": "markdown",
   "metadata": {},
   "source": [
    "We can also use NumPy to conveniently perform all of the vector operations\n",
    "that we learned in Linear Algebra.\n",
    "\n",
    "Given vectors $ \\mathbf v = (v_1, v_2, \\cdots, v_n) $ and $ \\mathbf w = (w_1,\n",
    "w_2, \\cdots, w_n) $ with the same number $ n $ of coordinates, their __sum__ and\n",
    "__difference__ $ \\mathbf v \\pm \\mathbf w $ are computed element-wise:\n",
    "$$\n",
    "\\mathbf v \\pm \\mathbf w = (v_1 \\pm w_1,\\,v_2 \\pm w_2,\\, \\cdots,\\, v_n \\pm w_n)\\,.\n",
    "$$\n",
    "NumPy uses the same notation:"
   ]
  },
  {
   "cell_type": "code",
   "execution_count": 17,
   "metadata": {},
   "outputs": [
    {
     "name": "stdout",
     "output_type": "stream",
     "text": [
      "[5 7 9] <class 'numpy.ndarray'>\n",
      "[-3 -3 -3] <class 'numpy.ndarray'>\n"
     ]
    }
   ],
   "source": [
    "s = v + w\n",
    "print(s, type(s))\n",
    "\n",
    "d = v - w\n",
    "print(d, type(d))"
   ]
  },
  {
   "cell_type": "markdown",
   "metadata": {},
   "source": [
    "__Scalar multiplication__ of a vector by a factor $ c \\in \\mathbb{R} $ is also defined\n",
    "element-wise:\n",
    "$$\n",
    "c\\, \\mathbf v = (c\\,v_1, c\\,v_2, \\cdots, c\\,v_n)\\,.\n",
    "$$"
   ]
  },
  {
   "cell_type": "code",
   "execution_count": 19,
   "metadata": {},
   "outputs": [
    {
     "name": "stdout",
     "output_type": "stream",
     "text": [
      "[2 4 6]\n",
      "[-3.14 -6.28 -9.42]\n",
      "[0 0 0]\n"
     ]
    }
   ],
   "source": [
    "print(2 * v)\n",
    "print(-3.14 * v)\n",
    "print(0 * v)"
   ]
  },
  {
   "cell_type": "markdown",
   "metadata": {},
   "source": [
    "Naturally, we may also write $ -\\mathbf v $ instead of $ (-1)\\mathbf v $. Try it in the code cell below:"
   ]
  },
  {
   "cell_type": "code",
   "execution_count": null,
   "metadata": {},
   "outputs": [],
   "source": []
  },
  {
   "cell_type": "markdown",
   "metadata": {},
   "source": [
    "If we operate on an array whose datatype is `int` and any floating-number is\n",
    "involved in the operation, then the result will be of type `float`.  A similar\n",
    "observation applies to any other type coercion."
   ]
  },
  {
   "cell_type": "code",
   "execution_count": 4,
   "metadata": {},
   "outputs": [
    {
     "name": "stdout",
     "output_type": "stream",
     "text": [
      "[1 2 3] int64\n",
      "[1. 2. 3.] float64\n",
      "[2 2 4] int64\n"
     ]
    }
   ],
   "source": [
    "# `v.dtype`` yields the datatype of the elements of v.\n",
    "# We will study `dtype` in more detail later.\n",
    "v = np.array([1, 2, 3])\n",
    "print(v, v.dtype)\n",
    "\n",
    "u = 1.0 * v\n",
    "print(u, u.dtype)\n",
    "\n",
    "s = v + (True, False, True)\n",
    "print(s, s.dtype)"
   ]
  },
  {
   "cell_type": "markdown",
   "metadata": {},
   "source": [
    "__Exercise:__ Can you explain the output of the following cell?"
   ]
  },
  {
   "cell_type": "code",
   "execution_count": 13,
   "metadata": {},
   "outputs": [
    {
     "name": "stdout",
     "output_type": "stream",
     "text": [
      "[0 0 2 3] int64\n"
     ]
    }
   ],
   "source": [
    "x = np.array([-1, 0, 1, 3])\n",
    "b = np.array([True, False, True, False])\n",
    "\n",
    "x_plus_b = x + b\n",
    "print(x_plus_b, x_plus_b.dtype)\n"
   ]
  },
  {
   "cell_type": "markdown",
   "metadata": {},
   "source": [
    "The __dot product__ $ \\mathbf v \\cdot \\mathbf w $ of two vectors $ \\mathbf v =\n",
    "(w_1, w_2, \\cdots, w_n) $ and $ \\mathbf w  = (w_1, w_2, \\cdots, w_n) $ of the\n",
    "same shape is the sum of the products of their corresponding elements:\n",
    "$$\n",
    "\\mathbf v \\cdot \\mathbf w = v_1w_1 + v_2w_2 + \\cdots + v_nw_n \\,.\n",
    "$$"
   ]
  },
  {
   "cell_type": "code",
   "execution_count": 14,
   "metadata": {},
   "outputs": [
    {
     "name": "stdout",
     "output_type": "stream",
     "text": [
      "32\n"
     ]
    }
   ],
   "source": [
    "v = np.array([1, 2, 3])\n",
    "w = np.array([4, 5, 6])\n",
    "dot_product = np.dot(v, w)\n",
    "print(dot_product)"
   ]
  },
  {
   "cell_type": "markdown",
   "metadata": {},
   "source": [
    "Equivalently, we can also use the `@` operator to compute dot products:"
   ]
  },
  {
   "cell_type": "code",
   "execution_count": 16,
   "metadata": {},
   "outputs": [
    {
     "name": "stdout",
     "output_type": "stream",
     "text": [
      "32\n"
     ]
    }
   ],
   "source": [
    "alternative_dot_product = v @ w\n",
    "print(alternative_dot_product)"
   ]
  },
  {
   "cell_type": "markdown",
   "metadata": {},
   "source": [
    "The dot product is symmetric (i.e., $ \\mathbf v \\cdot \\mathbf w = \\mathbf\n",
    "w \\cdot \\mathbf v) $ and bilinear, meaning that:\n",
    "$$ (a\\, \\mathbf u + b\\,\\mathbf v) \\cdot \\mathbf w\n",
    "= a\\, (\\mathbf u \\cdot \\mathbf w) + b\\, (\\mathbf v \\cdot \\mathbf w) $$\n",
    "for any three vectors $ \\mathbf u,\\, \\mathbf v,\\, \\mathbf w $ and scalars $ a $\n",
    "and $ b $. Actually the preceding equation only states linearity in the first\n",
    "component, but linearity in the second component follows from the symmetry.\n",
    "These properties are immediate consequences of the definition."
   ]
  },
  {
   "cell_type": "markdown",
   "metadata": {},
   "source": [
    "The __norm__ or __length__ of a vector\n",
    "$ \\mathbf v = (v_1, v_2, \\cdots, v_n) \\in \\mathbb R^n $ is defined by\n",
    "$$ \\Vert \\mathbf v \\Vert = \\sqrt{\\mathbf v \\cdot \\mathbf v} = \\sqrt{v_1^2 + v_2^2 + \\cdots v_n^2}\\,. $$\n",
    "In NumPy, it can be computed as follows:"
   ]
  },
  {
   "cell_type": "code",
   "execution_count": null,
   "metadata": {},
   "outputs": [
    {
     "name": "stdout",
     "output_type": "stream",
     "text": [
      "5.0\n",
      "5.0\n"
     ]
    }
   ],
   "source": [
    "v = np.array([0, 3, -4])\n",
    "\n",
    "print(np.linalg.norm(v))  # Using the function `norm` from the `linalg` submodule\n",
    "print(np.sqrt(np.dot(v, v)))  # Taking the square root of the dot product"
   ]
  },
  {
   "cell_type": "markdown",
   "metadata": {},
   "source": [
    "Recall that two vectors are _orthogonal_ (or _perpendicular_) if and only if their dot product vanishes.\n",
    "As an example, try to decide whether the two vectors below are orthogonal using Python:"
   ]
  },
  {
   "cell_type": "code",
   "execution_count": 19,
   "metadata": {},
   "outputs": [],
   "source": [
    "a = np.array([-3, 4, 7, 3, -6])\n",
    "b = np.array([2, 5, -2, 4, 2])"
   ]
  },
  {
   "cell_type": "markdown",
   "metadata": {},
   "source": [
    "More generally, recall from Linear Algebra the following relationship between the dot product and\n",
    "the angle $ \\theta \\in [0, \\pi] $ between two vectors:\n",
    "$$\n",
    "\\mathbf v \\cdot \\mathbf w = \\Vert \\mathbf v \\Vert \\,\\Vert \\mathbf w \\Vert \\cos \\theta\\,.\n",
    "$$\n",
    "                                                                                                    "
   ]
  },
  {
   "cell_type": "markdown",
   "metadata": {},
   "source": [
    "__Exercise:__ Consider the three vectors $ \\mathbf a $, $ \\mathbf b $ and $ \\mathbf c $ in the code cell below.\n",
    "\n",
    "(a) Compute $ \\mathbf d = 3\\mathbf a + 2\\mathbf b - \\mathbf c $.\n",
    "\n",
    "(b) Project $ \\mathbf d $ onto $ \\mathbf b $ to get $ \\mathbf e $. That is, compute \n",
    "$$ \\mathbf e = \\frac{\\mathbf d \\cdot \\mathbf b}{\\mathbf b \\cdot \\mathbf b} \\mathbf b \\,.$$\n",
    "\n",
    "(c) Scale $ \\mathbf e $ by $ 2 $ to get $ \\mathbf f $."
   ]
  },
  {
   "cell_type": "code",
   "execution_count": null,
   "metadata": {},
   "outputs": [],
   "source": [
    "a = np.array([1, 2, 3])\n",
    "b = np.array([4, 5, 6])\n",
    "c = np.array([7, 8, 9])"
   ]
  },
  {
   "cell_type": "markdown",
   "metadata": {},
   "source": [
    "__Exercise:__ Compute the angle between the vectors $ \\mathbf v = (3, 3) $ and $ (0, 2) $. _Hint:_ Use\n",
    "`np.arccos` to compute the arccosine and `np.degrees` to transform the result to degrees.\n"
   ]
  },
  {
   "cell_type": "code",
   "execution_count": null,
   "metadata": {},
   "outputs": [],
   "source": []
  },
  {
   "cell_type": "markdown",
   "metadata": {},
   "source": [
    "__Exercise:__ The __canonical basis__ in $ \\mathbb R^3 $ consists of the three vectors\n",
    "$$ \\mathbf e_1 = (1, 0, 0)\\,, \\quad \\mathbf e_2 = (0, 1, 0)\\,, \\quad \\text{and} \\quad \\mathbf e_3 = (0, 0, 1)\\,. $$\n",
    "Compute and print all possible dot products $ \\mathbf e_i \\cdot \\mathbf e_j $. What is the\n",
    "norm of $ \\mathbf e_i $? What is the angle between $ \\mathbf e_i $ and $ \\mathbf e_j $?\n",
    "_Hint:_ Don't do this manually; store the vectors in a list and use for loops."
   ]
  },
  {
   "cell_type": "code",
   "execution_count": null,
   "metadata": {},
   "outputs": [],
   "source": []
  },
  {
   "cell_type": "markdown",
   "metadata": {},
   "source": [
    "The __cross product__ $ \\mathbf v \\times \\mathbf w \\in \\mathbb R^3 $ of two vectors in\n",
    "three-dimensional space results in a vector orthogonal to both $ \\mathbf v $ and $ \\mathbf w $\n",
    "whose length is given by \n",
    "$$\n",
    "\\Vert{\\mathbf v \\times \\mathbf w}\\Vert = \\Vert{\\mathbf v}\\Vert\\,\\Vert{\\mathbf w}\\Vert\\,\\sin \\theta\\,,\n",
    "$$\n",
    "where again $ \\theta \\in [0, \\pi] $ denotes the angle between $ \\mathbf v $ and\n",
    "$ \\mathbf w $. The cross product is uniquely determined by these two properties\n",
    "together with the fact that the basis $ \\big(\\mathbf v,\\, \\mathbf w,\\, \\mathbf v\n",
    "\\times \\mathbf w \\big) $ is _positively oriented_ (i.e., this trio of vectors,\n",
    "in this order, satisfies the \"right-hand rule\"). Like the dot product, the cross\n",
    "product $ \\times $ is also bilinear, but it is antisymmetric instead of\n",
    "symmetric:\n",
    "$$ \\mathbf w \\times \\mathbf v = -\\mathbf v \\times \\mathbf w \\quad (\\mathbf v,\\, \\mathbf w \\in \\mathbb R^3)\\,.\n",
    "$$"
   ]
  },
  {
   "cell_type": "markdown",
   "metadata": {},
   "source": [
    "__Exercise:__ Compute all possible cross products of the canonical basis vectors $ \\mathbf e_i $ in $ \\mathbb R^3 $\n",
    "using the function `cross`. _Hint:_ Use for loops."
   ]
  },
  {
   "cell_type": "code",
   "execution_count": 32,
   "metadata": {},
   "outputs": [
    {
     "name": "stdout",
     "output_type": "stream",
     "text": [
      "[0 0 1]\n"
     ]
    }
   ],
   "source": [
    "e1 = np.array([1, 0, 0])\n",
    "e2 = np.array([0, 1, 0])\n",
    "cross_product = np.cross(e1, e2)\n",
    "print(cross_product)"
   ]
  },
  {
   "cell_type": "markdown",
   "metadata": {},
   "source": [
    "A __unit vector__ is a vector of length $ 1 $. To get a unit vector $ \\mathbf u $ having the same\n",
    "direction as a given nonzero vector $ \\mathbf v $, we can simply divide the latter by its norm:\n",
    "$$\n",
    "\\mathbf u = \\frac{\\mathbf v}{\\Vert \\mathbf v \\Vert}\\,.\n",
    "$$"
   ]
  },
  {
   "cell_type": "markdown",
   "metadata": {},
   "source": [
    "__Exercise:__ How many unit vectors in $ \\mathbb{R}^3 $ are parallel to $ \\mathbf v = (3, -4, 10) $? Compute all of them using NumPy."
   ]
  },
  {
   "cell_type": "code",
   "execution_count": 23,
   "metadata": {},
   "outputs": [],
   "source": [
    "v = np.array([3, -4, 12])"
   ]
  },
  {
   "cell_type": "markdown",
   "metadata": {},
   "source": [
    "## $ \\S 2 $ Basic operations involving matrices\n",
    "\n",
    "We can __add__ and __subtract__ two matrices (or more generally any two arrays of the\n",
    "same number of dimensions and shape) using simply `+` and `-` respectively:"
   ]
  },
  {
   "cell_type": "code",
   "execution_count": 24,
   "metadata": {},
   "outputs": [
    {
     "name": "stdout",
     "output_type": "stream",
     "text": [
      "Matrix A:\n",
      " [[1 2 3]\n",
      " [1 2 3]] \n",
      "\n",
      "Matrix B:\n",
      " [[4 4 4]\n",
      " [5 5 5]] \n",
      "\n",
      "Sum:\n",
      " [[5 6 7]\n",
      " [6 7 8]] \n",
      "\n",
      "Difference:\n",
      " [[-3 -2 -1]\n",
      " [-4 -3 -2]] \n",
      "\n"
     ]
    }
   ],
   "source": [
    "A = np.array([[1, 2, 3],\n",
    "              [1, 2, 3]])\n",
    "\n",
    "B = np.array([[4, 4, 4],\n",
    "              [5, 5, 5]])\n",
    "\n",
    "print(\"Matrix A:\\n\", A, '\\n')\n",
    "print(\"Matrix B:\\n\", B, '\\n')\n",
    "print(\"Sum:\\n\", A + B, '\\n')\n",
    "print(\"Difference:\\n\", A - B, '\\n')"
   ]
  },
  {
   "cell_type": "markdown",
   "metadata": {},
   "source": [
    "Similarly, to __scale__ every element of a matrix (or, more generally, $ n\n",
    "$-dimensional array) $ A $ by a scalar $ c $, we may use either `c * A` or `A * c`:"
   ]
  },
  {
   "cell_type": "code",
   "execution_count": 12,
   "metadata": {},
   "outputs": [
    {
     "name": "stdout",
     "output_type": "stream",
     "text": [
      "c * A:\n",
      " [[2 4 6]\n",
      " [2 4 6]] \n",
      "\n",
      "A * c:\n",
      " [[2 4 6]\n",
      " [2 4 6]] \n",
      "\n"
     ]
    }
   ],
   "source": [
    "c = 2\n",
    "print(\"c * A:\\n\", c * A, '\\n')\n",
    "print(\"A * c:\\n\", A * c, '\\n')"
   ]
  },
  {
   "cell_type": "markdown",
   "metadata": {},
   "source": [
    "For __multiplication__ of 2D arrays, i.e., matrices, NumPy uses the `np.matmul` function or\n",
    "the `@` operator. Note that we are referring here to matrix multiplication,\n",
    "which is different from element-wise multiplication. In particular, the number\n",
    "of columns in the first matrix must match the number of rows in the second\n",
    "matrix: The product of an $ m \\times n $ matrix by an $ n \\times p $ matrix has shape $ m \\times p $."
   ]
  },
  {
   "cell_type": "code",
   "execution_count": 17,
   "metadata": {},
   "outputs": [
    {
     "name": "stdout",
     "output_type": "stream",
     "text": [
      "[[ 74  80  86  92]\n",
      " [173 188 203 218]] (2, 4)\n",
      "[[ 74  80  86  92]\n",
      " [173 188 203 218]] (2, 4)\n"
     ]
    }
   ],
   "source": [
    "# Creating a 2 x 3 matrix A:\n",
    "A = np.array([[1, 2, 3],\n",
    "              [4, 5, 6]])\n",
    "\n",
    "# Creating a 3 x 4 matrix B:\n",
    "B = np.array([[7, 8, 9, 10],\n",
    "              [11, 12, 13, 14],\n",
    "              [15, 16, 17, 18]])\n",
    "\n",
    "# Multiplying A and B:\n",
    "C = np.matmul(A, B)\n",
    "D = A @ B\n",
    "print(C, C.shape)\n",
    "print(D, D.shape)"
   ]
  },
  {
   "cell_type": "markdown",
   "metadata": {},
   "source": [
    "📝 `np.matmul` and `@` are completely equivalent in their output and\n",
    "performance. The choice between them is usually a matter of preference and code\n",
    "readability."
   ]
  },
  {
   "cell_type": "markdown",
   "metadata": {},
   "source": [
    "__Exercise:__ Compute `C * C`, `C**2` and `C**(-1)` for the matrix $ C $ below. Can you explain these results? We will return to these operations in a later section."
   ]
  },
  {
   "cell_type": "code",
   "execution_count": 40,
   "metadata": {},
   "outputs": [],
   "source": [
    "C = np.array([[1, 2, 3],\n",
    "             [4, 5, 6],\n",
    "             [7, 8, 9]])"
   ]
  },
  {
   "cell_type": "markdown",
   "metadata": {},
   "source": [
    "To instantiate a copy of the identity matrix of shape $ n \\times n $,\n",
    "we can use the function `np.identity` as follows:"
   ]
  },
  {
   "cell_type": "code",
   "execution_count": 26,
   "metadata": {},
   "outputs": [
    {
     "name": "stdout",
     "output_type": "stream",
     "text": [
      "[[1. 0. 0. 0.]\n",
      " [0. 1. 0. 0.]\n",
      " [0. 0. 1. 0.]\n",
      " [0. 0. 0. 1.]]\n",
      "float64\n"
     ]
    }
   ],
   "source": [
    "n = 4\n",
    "I = np.identity(n)  # Create an n x n identity matrix\n",
    "print(I)\n",
    "print(I.dtype)"
   ]
  },
  {
   "cell_type": "markdown",
   "metadata": {},
   "source": [
    "A more flexible version of `np.identity` allowing the creation of non-square matrices is `np.eye`:"
   ]
  },
  {
   "cell_type": "code",
   "execution_count": 27,
   "metadata": {},
   "outputs": [
    {
     "name": "stdout",
     "output_type": "stream",
     "text": [
      "[[1. 0. 0. 0.]\n",
      " [0. 1. 0. 0.]\n",
      " [0. 0. 1. 0.]]\n"
     ]
    }
   ],
   "source": [
    "E = np.eye(3, 4)\n",
    "print(E)"
   ]
  },
  {
   "cell_type": "markdown",
   "metadata": {},
   "source": [
    "The third (optional) parameter of `np.eye` specifies an offset to the diagonal:"
   ]
  },
  {
   "cell_type": "code",
   "execution_count": 31,
   "metadata": {},
   "outputs": [
    {
     "name": "stdout",
     "output_type": "stream",
     "text": [
      "[[1. 0. 0. 0.]\n",
      " [0. 1. 0. 0.]\n",
      " [0. 0. 1. 0.]\n",
      " [0. 0. 0. 1.]] \n",
      "\n",
      "[[0. 1. 0. 0.]\n",
      " [0. 0. 1. 0.]\n",
      " [0. 0. 0. 1.]\n",
      " [0. 0. 0. 0.]] \n",
      "\n",
      "[[0. 0. 0. 0.]\n",
      " [0. 0. 0. 0.]\n",
      " [1. 0. 0. 0.]\n",
      " [0. 1. 0. 0.]] \n",
      "\n"
     ]
    }
   ],
   "source": [
    "I = np.eye(4, 4, 0)   # An offset of 0 corresponds to the main diagonal\n",
    "U = np.eye(4, 4, 1)   # An offset of 1 corresponds to the diagonal immediately above the main one\n",
    "L = np.eye(4, 4, -2)  # A negative offset to refers to a lower diagonal\n",
    "\n",
    "print(I, '\\n')\n",
    "print(U, '\\n')\n",
    "print(L, '\\n')"
   ]
  },
  {
   "cell_type": "markdown",
   "metadata": {},
   "source": [
    "__Exercise:__ Compute the linear combination $ M^2 - 3 M + 2I $, for $ M $ the matrix below:"
   ]
  },
  {
   "cell_type": "code",
   "execution_count": 36,
   "metadata": {},
   "outputs": [],
   "source": [
    "M = np.array([[ 0, -2],\n",
    "              [ 1,  3]])"
   ]
  },
  {
   "cell_type": "markdown",
   "metadata": {},
   "source": [
    "When multiplying a 2D array (matrix) by a 1D array (vector), _the vector is\n",
    "temporarily viewed as a column matrix and the operation is then treated as a\n",
    "matrix multiplication_. Thus, matrix-vector multiplication can also be handled\n",
    "by `@`, or equivalently `np.matmul`:"
   ]
  },
  {
   "cell_type": "code",
   "execution_count": 32,
   "metadata": {},
   "outputs": [
    {
     "name": "stdout",
     "output_type": "stream",
     "text": [
      "[2 2] (2,)\n",
      "[2 2] (2,)\n"
     ]
    }
   ],
   "source": [
    "A = np.array([[1, 2, 3],\n",
    "              [4, 5, 6]])\n",
    "v = np.array([-1, 0, 1])\n",
    "\n",
    "prod1 = A @ v\n",
    "prod2 = np.matmul(A, v)\n",
    "print(prod1, prod1.shape)\n",
    "print(prod2, prod2.shape)"
   ]
  },
  {
   "cell_type": "markdown",
   "metadata": {},
   "source": [
    "To compute the __determinant__ and the __inverse__ of a _square_ matrix, we can use the `np.linalg.det` and the `np.linalg.inv` functions, respectively:"
   ]
  },
  {
   "cell_type": "code",
   "execution_count": 42,
   "metadata": {},
   "outputs": [
    {
     "name": "stdout",
     "output_type": "stream",
     "text": [
      "Matrix X:\n",
      " [[1 2]\n",
      " [3 4]]\n",
      "Determinant of X: -2.0000000000000004\n"
     ]
    }
   ],
   "source": [
    "X = np.array([[1, 2],\n",
    "              [3, 4]])\n",
    "print(\"Matrix X:\\n\", X)\n",
    "print(\"Determinant of X:\", np.linalg.det(X))"
   ]
  },
  {
   "cell_type": "code",
   "execution_count": 27,
   "metadata": {},
   "outputs": [
    {
     "name": "stdout",
     "output_type": "stream",
     "text": [
      "Inverse of A:\n",
      " [[-0. -1.]\n",
      " [ 1.  0.]]\n",
      "Product of A and its inverse:\n",
      " [[1. 0.]\n",
      " [0. 1.]]\n"
     ]
    }
   ],
   "source": [
    "A = np.array([[0, 1],\n",
    "              [-1, 0]])\n",
    "A_inverse = np.linalg.inv(A)\n",
    "print(\"Inverse of A:\\n\", A_inverse)\n",
    "print(\"Product of A and its inverse:\\n\", A @ A_inverse)"
   ]
  },
  {
   "cell_type": "markdown",
   "metadata": {},
   "source": [
    "__Exercise:__ Find the area of a parallelogram spanned by vectors \n",
    "$ (3, 5) $ and $ (2, 4) $ in $ \\mathbb{R}^2 $.  Recall that this area can be\n",
    "computed as the absolute value of the determinant of the matrix formed by these\n",
    "vectors. _Hint:_ The absolute value function in NumPy is denoted by `np.abs`."
   ]
  },
  {
   "cell_type": "code",
   "execution_count": null,
   "metadata": {},
   "outputs": [],
   "source": []
  },
  {
   "cell_type": "markdown",
   "metadata": {},
   "source": [
    "__Exercise:__ Given two square matrices $ C $ and $ D $ of the same size, recall\n",
    "that the determinant of their product is the product of their determinants:\n",
    "$$\n",
    "\\det(CD) = \\det(C) \\cdot \\det(D)\n",
    "$$\n",
    "Verify this identity in the particular example where\n",
    "$$\n",
    "C = \\begin{bmatrix}\n",
    "1 & 2 \\\\\n",
    "3 & 4 \\\\\n",
    "\\end{bmatrix} \\quad \\text{and} \\quad\n",
    "D = \\begin{bmatrix}\n",
    "-1 & 1 \\\\\n",
    "1 & -1 \\\\\n",
    "\\end{bmatrix}\\,.\n",
    "$$"
   ]
  },
  {
   "cell_type": "code",
   "execution_count": null,
   "metadata": {},
   "outputs": [],
   "source": []
  },
  {
   "cell_type": "markdown",
   "metadata": {},
   "source": [
    "__Exercise:__ Solve the linear system of equations given by $ A\\mathbf{x} = \\mathbf{b} $, where\n",
    "$$\n",
    "A = \\begin{bmatrix}\n",
    "1 & 2 & 3 \\\\\n",
    "0 & 1 & 4 \\\\\n",
    "5 & 6 & 0 \\\\\n",
    "\\end{bmatrix},\n",
    "\\mathbf b = \\begin{bmatrix}\n",
    "3 \\\\\n",
    "7 \\\\\n",
    "8 \\\\\n",
    "\\end{bmatrix}\n",
    "$$\n",
    "Verify your answer by multiplying $ A $ by $ \\mathbf x $.\n",
    "_Hint:_ Use the inverse of $ A $ to find $ \\mathbf{x} = A^{-1}\\mathbf{b} $."
   ]
  },
  {
   "cell_type": "code",
   "execution_count": null,
   "metadata": {},
   "outputs": [],
   "source": []
  },
  {
   "cell_type": "markdown",
   "metadata": {},
   "source": [
    "__Exercise (simple cryptographic encoding/decoding):__\n",
    "In this exercise we will use matrix multiplication to encode a simple message\n",
    "and then decode it using the inverse of the encoding matrix.\n",
    "\n",
    "Assign a numerical value to each letter of the alphabet (e.g., whitespace\n",
    "$ = 0 $, $ A =1 $, $ B =2,\\cdots $, $ Z = 26 $) and choose a\n",
    "word or short message to encode.  Represent the message as a $ 2 \\times n $\n",
    "matrix, where each entry corresponds to a letter. For example, \"PYTHON\" would be\n",
    "represented as\n",
    "$$\n",
    "\\begin{bmatrix}\n",
    "P & T & O \\\\\n",
    "Y & H & N\n",
    "\\end{bmatrix}\n",
    "=\n",
    "\\begin{bmatrix}\n",
    "16 & 20 & 15 \\\\\n",
    "25 & 8 & 14\n",
    "\\end{bmatrix}\n",
    "$$\n",
    "Corresponding utilities have already been provided below through the functions\n",
    "`text_to_ints` and `int_to_text`.\n",
    "\n",
    "Now create a $ 2 \\times 2 $ encoding matrix $ A $ and ensure it is invertible.\n",
    "Encode the message by multiplying it with the encoding matrix.  Decode the\n",
    "message by multiplying the encoded matrix by the inverse of the encoding matrix.\n",
    "Verify that the decoded message matches the original message."
   ]
  },
  {
   "cell_type": "code",
   "execution_count": 33,
   "metadata": {},
   "outputs": [
    {
     "name": "stdout",
     "output_type": "stream",
     "text": [
      "[[16 20 15]\n",
      " [25  8 14]]\n"
     ]
    },
    {
     "data": {
      "text/plain": [
       "'PYTHON'"
      ]
     },
     "execution_count": 33,
     "metadata": {},
     "output_type": "execute_result"
    }
   ],
   "source": [
    "def text_to_ints(text):\n",
    "    \"\"\"Convert a text message to a 2D array of integers suitable for encoding, with spaces encoded as 0.\n",
    "    Ensures the letters go in sequence along the first column, then along the second column, etc., for a 2xN array.\"\"\"\n",
    "    # Convert to uppercase\n",
    "    text = text.upper()\n",
    "    # Convert characters to integers (' ' to 0, A=1, B=2, ..., Z=26)\n",
    "    ints = np.array([0 if char == ' ' else ord(char) - ord('A') + 1 for char in text])\n",
    "    # Pad with 0 (space) to ensure the total number of elements is divisible by 2\n",
    "    while len(ints) % 2 != 0:\n",
    "        ints = np.append(ints, 0)  # Pad with 'space' represented as 0\n",
    "    \n",
    "    # Reshape into 2 x N, filling the array column-wise\n",
    "    return np.reshape(ints, (2, -1), order='F')\n",
    "\n",
    "def int_to_text(ints):\n",
    "    \"\"\"Convert a 2D array of integers back to a text message, with 0 decoded as space.\n",
    "    Expects input shape to be 2 x n.\"\"\"\n",
    "    decoded_message = ''\n",
    "    # Iterate over the array assuming a shape of 2 x n:\n",
    "    for row in range(ints.shape[1]):  # Iterate columns based on the corrected shape\n",
    "        for col in range(ints.shape[0]):\n",
    "            value = ints[col, row]\n",
    "            # Convert each integer back to a character, translating 0 back to space\n",
    "            if value == 0:\n",
    "                decoded_message += ' '  # Convert 0 back to space\n",
    "            else:\n",
    "                decoded_message += chr(int(value) + ord('A') - 1)\n",
    "    return decoded_message.strip()  # Strip trailing spaces if any\n",
    "\n",
    "ints = text_to_ints(\"Python\")\n",
    "print(ints)\n",
    "int_to_text(ints)"
   ]
  },
  {
   "cell_type": "code",
   "execution_count": null,
   "metadata": {},
   "outputs": [],
   "source": []
  },
  {
   "cell_type": "markdown",
   "metadata": {},
   "source": [
    "## $ \\S 3 $ Attributes of arrays\n",
    "\n",
    "Recall from the previous notebook that, just as in Linear Algebra, an important\n",
    "property of a $ 2D $ array is its **shape**, which is the element count\n",
    "along each of its **axes** (vertical and horizontal).\n",
    "Referring to the example below, the shape of our matrix $ A $ is\n",
    "$ (3, 4) $, or $ 3 \\times 4 $, since it has three rows and four columns:"
   ]
  },
  {
   "cell_type": "code",
   "execution_count": 3,
   "metadata": {},
   "outputs": [
    {
     "name": "stdout",
     "output_type": "stream",
     "text": [
      "[[ 1.  2.  3.  4.]\n",
      " [ 1.  4.  9. 16.]\n",
      " [ 1.  8. 27. 64.]]\n"
     ]
    }
   ],
   "source": [
    "import numpy as np\n",
    "\n",
    "A = np.array([[1., 2., 3., 4.],\n",
    "              [1., 4., 9., 16.],\n",
    "              [1., 8., 27., 64.]])\n",
    "print(A)"
   ]
  },
  {
   "cell_type": "markdown",
   "metadata": {},
   "source": [
    "The number of dimensions and shape of an arbitrary array are stored in its `ndim` and `shape` attributes, respectively:"
   ]
  },
  {
   "cell_type": "code",
   "execution_count": 39,
   "metadata": {},
   "outputs": [
    {
     "name": "stdout",
     "output_type": "stream",
     "text": [
      "2\n",
      "(3, 4)\n"
     ]
    }
   ],
   "source": [
    "print(A.ndim)    # Print the number of dimensions of A\n",
    "print(A.shape)   # Print the shape of A"
   ]
  },
  {
   "cell_type": "markdown",
   "metadata": {},
   "source": [
    "The number of dimensions of an array is a positive integer, while its shape is always a tuple, even when the array is one-dimensional:"
   ]
  },
  {
   "cell_type": "code",
   "execution_count": null,
   "metadata": {},
   "outputs": [
    {
     "name": "stdout",
     "output_type": "stream",
     "text": [
      "(3,) <-- Note that the shape is not '3', but rather the tuple '(3, )'\n",
      "<class 'tuple'>\n"
     ]
    }
   ],
   "source": [
    "a = np.array([11, 13, 17])\n",
    "print(a.shape, \"<-- Note that the shape is not '3', but rather the tuple '(3, )'\")\n",
    "print(type(a.shape))"
   ]
  },
  {
   "cell_type": "markdown",
   "metadata": {},
   "source": [
    "__Exercise:__ What are the dimension and shape of an empty array?"
   ]
  },
  {
   "cell_type": "code",
   "execution_count": null,
   "metadata": {},
   "outputs": [],
   "source": []
  },
  {
   "cell_type": "markdown",
   "metadata": {},
   "source": [
    "An instance of a specific class, such as the array $ A $ of type `ndarray`,\n",
    "is equipped with a set of predefined **attributes**. Attributes are simply\n",
    "_properties inherent to every instance of the class_ (in this case, that of\n",
    "ndarrays) _and which together describe the state of that instance_. \n",
    "\n",
    "📝 To access an attribute of an object `x`, the syntax is `x.<attribute>`.\n",
    "\n",
    "For example, suppose that we want to design a Python class to represent cars.\n",
    "An instance of this class would then be a representation of one specific car\n",
    "in the real world.  Some plausible attributes of this class could be:\n",
    "* Its color (say, `color`, of type `str`).\n",
    "* The year in which it was manufactured (say, `year`, of type `int`).\n",
    "* Whether it is electric or not (say, `electric`, of type `boolean`).\n",
    "* The fuel efficiency of the car (say, `kilometers_per_liter`, of type `float`).\n",
    "\n",
    "And so on for any other relevant property of cars that we might want to include\n",
    "in our model. Note that the values of these attributes for different car\n",
    "instances will vary, in general.\n",
    "\n",
    "Although ndarrays come with several attributes, most of them relate to the array's\n",
    "internal representation or low-level utilities. The five most frequently used and\n",
    "conceptually important attributes of ndarrays are:\n",
    "* `ndim`: The number of dimensions (axes) of the array.\n",
    "* `shape`: Indicates how many elements lie along each axis.\n",
    "* `size`: The total number of elements in the array.\n",
    "* `dtype`: The data type of the elements of the array.\n",
    "* `T`: The transpose of the array."
   ]
  },
  {
   "cell_type": "markdown",
   "metadata": {},
   "source": [
    "__Exercise:__ Print the number of dimensions, shape, size, datatype and transpose of the following array. Is the datatype what you expected? Explain."
   ]
  },
  {
   "cell_type": "code",
   "execution_count": 5,
   "metadata": {},
   "outputs": [],
   "source": [
    "E = np.array([[1, 2, 3],\n",
    "              [4, 5, 6],\n",
    "              [7, 8, 9.]])"
   ]
  },
  {
   "cell_type": "markdown",
   "metadata": {},
   "source": [
    "__Exercise:__ If an array has shape $ (2, 3, 4) $, what is its size? More generally, what is the size of an array of shape $ (n_1, n_2, \\cdots, n_d) $? What is the type of the object returned by `size`?"
   ]
  },
  {
   "cell_type": "code",
   "execution_count": null,
   "metadata": {},
   "outputs": [],
   "source": []
  },
  {
   "cell_type": "markdown",
   "metadata": {},
   "source": [
    "__Exercise:__ Let\n",
    "$$\n",
    "B = \\begin{bmatrix}\n",
    "1 & 2 & 3 \\\\\n",
    "-4 & -5 & -6 \\\\\n",
    "\\end{bmatrix}\\,.\n",
    "$$\n",
    "Use NumPy to create this array and compute its dimension, shape, size, datatype and transpose.\n",
    "Can you build an array whose datatype is `bool`?"
   ]
  },
  {
   "cell_type": "code",
   "execution_count": null,
   "metadata": {},
   "outputs": [],
   "source": []
  },
  {
   "cell_type": "markdown",
   "metadata": {},
   "source": [
    "__Exercise:__ A _square matrix_ has the same number of rows and columns. Write a\n",
    "function `is_square(matrix)` that accepts a 2D array as its argument and returns\n",
    "`True` or `False` depending on whether the given matrix is square or not. How\n",
    "would you generalize to multidimensional arrays?"
   ]
  },
  {
   "cell_type": "code",
   "execution_count": null,
   "metadata": {},
   "outputs": [],
   "source": []
  },
  {
   "cell_type": "markdown",
   "metadata": {},
   "source": [
    "__Exercise:__ Write a function to determine whether a given matrix $ A $ is\n",
    "symmetric (i.e., whether $ A^T = A $). _Hint:_ When applied to two arrays of\n",
    "the same shape, the `=` operator performs an element-wise comparison and\n",
    "returns a Boolean array of the same shape. Use `np.array_equal(A, B)` to\n",
    "check if two arrays $ A $ and $ B $ have the same shape and elements."
   ]
  },
  {
   "cell_type": "code",
   "execution_count": 46,
   "metadata": {},
   "outputs": [
    {
     "data": {
      "text/plain": [
       "array([ True,  True])"
      ]
     },
     "execution_count": 46,
     "metadata": {},
     "output_type": "execute_result"
    }
   ],
   "source": [
    "a = np.array([1, 2])\n",
    "b = np.array([1, 2])\n",
    "a == b"
   ]
  },
  {
   "cell_type": "markdown",
   "metadata": {},
   "source": [
    "__Exercise:__ What is the transpose of a $ 1D $ array? What about $ 3D $ arrays? In general, how is the transpose\n",
    "of an $ n $-dimensional array defined?"
   ]
  },
  {
   "cell_type": "code",
   "execution_count": null,
   "metadata": {},
   "outputs": [],
   "source": []
  },
  {
   "cell_type": "markdown",
   "metadata": {},
   "source": [
    "## $ \\S 4 $ Array methods\n",
    "\n",
    "Besides attributes, objects of a certain class usually come with predefined\n",
    "**methods**. _Methods are functions associated to each instance of that class that\n",
    "have direct access to that intance's state_. The\n",
    "syntax for calling method `f` of object `x` is `x.f(<arguments>)`. For instance,\n",
    "the `sum` method associated to each array returns the sum of all of its entries:"
   ]
  },
  {
   "cell_type": "code",
   "execution_count": null,
   "metadata": {},
   "outputs": [
    {
     "name": "stdout",
     "output_type": "stream",
     "text": [
      "2.5\n"
     ]
    }
   ],
   "source": [
    "C = np.array([[-1.0, 2.3, 3.7],\n",
    "              [-4.5, 2.7, -0.7]])\n",
    "print(C.sum())"
   ]
  },
  {
   "cell_type": "markdown",
   "metadata": {},
   "source": [
    "As an optional argument to `sum`, we can designate an axis over which the sum should take place. As always in Python, indexing is zero-based, meaning that for matrix $ C $ above, the rows lie along axis $ 0 $ and the columns along axis $ 1 $."
   ]
  },
  {
   "cell_type": "code",
   "execution_count": null,
   "metadata": {},
   "outputs": [
    {
     "name": "stdout",
     "output_type": "stream",
     "text": [
      "[-5.5  5.   3.2]\n"
     ]
    }
   ],
   "source": [
    "print(C.sum(axis=0))"
   ]
  },
  {
   "cell_type": "markdown",
   "metadata": {},
   "source": [
    "If we think of $ C $ as the matrix $ C = (c_{ij}) $, where $ i $ is the index\n",
    "for axis $ 0 $ (i.e., the index of rows), then taking the sum along this axis\n",
    "means that for each $ j $, NumPy computes $ \\sum_{i} c_{ij} $, resulting in the\n",
    "preceding vector since $ C $ has three columns. To put it another way, the axis\n",
    "specified as the argument to `sum` is the one that gets collapsed, in this case\n",
    "by the summation."
   ]
  },
  {
   "cell_type": "markdown",
   "metadata": {},
   "source": [
    "__Exercise:__ Compute the sum of the entries of $ C $ along the column index."
   ]
  },
  {
   "cell_type": "code",
   "execution_count": null,
   "metadata": {},
   "outputs": [],
   "source": []
  },
  {
   "cell_type": "markdown",
   "metadata": {},
   "source": [
    "The main array methods that involve mathematical operations are:\n",
    "\n",
    "| Method    | Description                                          |\n",
    "|-----------|------------------------------------------------------|\n",
    "| `sum`     | Returns the sum of all the elements in the array.   |\n",
    "| `prod`    | Returns the product of all the elements in the array.|\n",
    "| `mean`    | Returns the arithmetic mean of the array.           |\n",
    "| `std`     | Returns the standard deviation of the array.        |\n",
    "| `var`     | Returns the variance of the array.                  |\n",
    "| `min`     | Returns the minimum value of the array.             |\n",
    "| `max`     | Returns the maximum value of the array.             |\n",
    "| `argmin`  | Returns the indices of the minimum value along an axis. |\n",
    "| `argmax`  | Returns the indices of the maximum value along an axis. |\n",
    "| `cumsum`  | Returns the cumulative sum of the elements along a given axis. |\n",
    "| `cumprod` | Returns the cumulative product of the elements along a given axis. |\n",
    "\n",
    "\n",
    "_All of these can be applied to a specific axis or axes by setting a value for\n",
    "the `axis` parameter_. One can also apply them to more complex subarrays using\n",
    "slices."
   ]
  },
  {
   "cell_type": "code",
   "execution_count": 44,
   "metadata": {},
   "outputs": [
    {
     "name": "stdout",
     "output_type": "stream",
     "text": [
      "[3 6 9]\n",
      "[4. 5. 6.]\n",
      "[0.81649658 0.81649658 0.81649658]\n"
     ]
    }
   ],
   "source": [
    "arr = np.array([[1, 2, 3],\n",
    "                [4, 5, 6],\n",
    "                [7, 8, 9]])\n",
    "\n",
    "# Maximum of each row, i.e., along axis 1:\n",
    "max_rows = arr.max(axis=1)\n",
    "print(max_rows)\n",
    "\n",
    "# Mean (average) of each column, i.e., along axis 0:\n",
    "mean_cols = arr.mean(axis=0)\n",
    "print(mean_cols)\n",
    "\n",
    "# Standard deviation of each row, i.e., along axis 1:\n",
    "std_rows = arr.std(axis=1)\n",
    "print(std_rows)"
   ]
  },
  {
   "cell_type": "markdown",
   "metadata": {},
   "source": [
    "## $ \\S 5 $ Reshaping arrays\n",
    "\n",
    "Reshaping arrays is a common and fundamental operation in NumPy. There is both\n",
    "a function and a method named `reshape` that can accomplish this:"
   ]
  },
  {
   "cell_type": "code",
   "execution_count": null,
   "metadata": {},
   "outputs": [
    {
     "name": "stdout",
     "output_type": "stream",
     "text": [
      "[1 2 3 4 5 6]\n",
      "\n",
      "[[1 2]\n",
      " [3 4]\n",
      " [5 6]]\n",
      "\n",
      "[[1 2 3]\n",
      " [4 5 6]]\n",
      "\n"
     ]
    }
   ],
   "source": [
    "a = np.array([1, 2, 3, 4, 5, 6])\n",
    "print(a, end='\\n\\n')\n",
    "\n",
    "A = np.reshape(a, (3, 2))  # Here we use the _function_ `reshape`\n",
    "B = a.reshape((2, 3))   # Here we use the `reshape` _method_\n",
    "\n",
    "print(A, end='\\n\\n')  # Here a has been reshaped into a 3 by 2 matrix\n",
    "print(B, end='\\n\\n')  # Here a has been reshaped into a 2 by 3 matrix\n"
   ]
  },
  {
   "cell_type": "markdown",
   "metadata": {},
   "source": [
    "Note that when reshaping an array, the new shape must be compatible with the\n",
    "size of the original array. For example, the following results in an error:"
   ]
  },
  {
   "cell_type": "code",
   "execution_count": null,
   "metadata": {},
   "outputs": [],
   "source": [
    "C = np.reshape(a, (2, 2))"
   ]
  },
  {
   "cell_type": "markdown",
   "metadata": {},
   "source": [
    "When reshaping an array, we may also specify $ -1 $ in a dimension to instruct\n",
    "NumPy to infer the number of elements along that dimension from the size of the\n",
    "array and that of the remaining dimensions. This is especially useful when an\n",
    "array is passed to us by the user as an argument in a function call, but we do\n",
    "not know in advance how many entries it has:"
   ]
  },
  {
   "cell_type": "code",
   "execution_count": null,
   "metadata": {},
   "outputs": [
    {
     "name": "stdout",
     "output_type": "stream",
     "text": [
      "[[1]\n",
      " [2]\n",
      " [3]\n",
      " [4]]\n"
     ]
    }
   ],
   "source": [
    "a = np.array([[1, 2],\n",
    "              [3, 4]])\n",
    "A = a.reshape((-1, 1))  # Reshape into a column vector\n",
    "print(A)"
   ]
  },
  {
   "cell_type": "markdown",
   "metadata": {},
   "source": [
    "In this example we wanted to reshape our array so that the result would have\n",
    "one column, but didn't want to figure out how many rows it should have for that\n",
    "to happen. Here's another example, in which we reshape a $ 1D $ array into a\n",
    "matrix and then to a row vector:"
   ]
  },
  {
   "cell_type": "code",
   "execution_count": null,
   "metadata": {},
   "outputs": [
    {
     "name": "stdout",
     "output_type": "stream",
     "text": [
      "[ 1  2  3  4  5  6  7  8  9 10 11 12]\n",
      "\n",
      "[[ 1  2  3  4]\n",
      " [ 5  6  7  8]\n",
      " [ 9 10 11 12]]\n",
      "\n",
      "[[ 1  2  3  4  5  6  7  8  9 10 11 12]]\n",
      "\n"
     ]
    }
   ],
   "source": [
    "x = np.arange(1, 13)\n",
    "X = x.reshape((3, -1))\n",
    "x_row = X.reshape((1, -1))\n",
    "\n",
    "print(x, end='\\n\\n')\n",
    "print(X, end='\\n\\n')\n",
    "print(x_row, end='\\n\\n')"
   ]
  },
  {
   "cell_type": "markdown",
   "metadata": {},
   "source": [
    "📝 There is no essential difference between the function and the method versions\n",
    "of `reshape`. In both cases, NumPy returns a _new_ array, while the original\n",
    "array remains unchanged. However, these operations provide a view of the\n",
    "original array's data whenever possible, meaning that they do not copy the\n",
    "array's data unless necessary. Thus, _modifications to the data in the reshaped\n",
    "array can affect the original array and vice versa_. Let's use the previous\n",
    "example to illustrate this:"
   ]
  },
  {
   "cell_type": "code",
   "execution_count": null,
   "metadata": {},
   "outputs": [
    {
     "name": "stdout",
     "output_type": "stream",
     "text": [
      "[-23   2   3   4   5   6   7   8   9  10  11  12]\n"
     ]
    }
   ],
   "source": [
    "X[0, 0] = -23  # Modify the top left element of X\n",
    "print(x)  # The 0th element of x has also been affected!"
   ]
  },
  {
   "cell_type": "markdown",
   "metadata": {},
   "source": [
    "To create an independent copy of a NumPy array, we can use the `copy` method.\n",
    "This method generates a new array object with the same data as the original\n",
    "array, but stored in a separate memory location."
   ]
  },
  {
   "cell_type": "code",
   "execution_count": 49,
   "metadata": {},
   "outputs": [
    {
     "name": "stdout",
     "output_type": "stream",
     "text": [
      "[10  1  2]\n",
      "[[0 1 2]]\n"
     ]
    }
   ],
   "source": [
    "y = np.arange(3)  # y is the 1D array with entries 0, 1, 2\n",
    "Y = y.copy().reshape((1, -1))  # Reshape y into an independent 2D row vector\n",
    "y[0] = 10  # Modify 0th element of y\n",
    "print(y)\n",
    "print(Y)  # The 0th element of Y is not affected, since Y is an independent copy"
   ]
  },
  {
   "cell_type": "markdown",
   "metadata": {},
   "source": [
    "📝 There is also a _function_ `np.copy` that is essentially equivalent to the method having the same name."
   ]
  },
  {
   "cell_type": "markdown",
   "metadata": {},
   "source": [
    "The `flatten` method takes a multi-dimensional array and returns a new,\n",
    "independent _one-dimensional_ array containing all of the elements of the original\n",
    "array, while preserving their order. "
   ]
  },
  {
   "cell_type": "code",
   "execution_count": null,
   "metadata": {},
   "outputs": [
    {
     "name": "stdout",
     "output_type": "stream",
     "text": [
      "[1 2 3 4]\n"
     ]
    }
   ],
   "source": [
    "A = np.array([[1, 2],\n",
    "              [3, 4]])\n",
    "a = A.flatten()\n",
    "print(a)"
   ]
  },
  {
   "cell_type": "markdown",
   "metadata": {},
   "source": [
    "The order in which the elements are placed in the flattened array is based on\n",
    "the lexicographic ordering of their indices in the original array. For example,\n",
    "if we are dealing with a $ 3D $ array, then the entry at position $ (0, 0, 2) $\n",
    "comes before the entry at $ (0, 1, 0) $, which will be placed before the entry\n",
    "at $ (1, 0, 0) $."
   ]
  },
  {
   "cell_type": "code",
   "execution_count": null,
   "metadata": {},
   "outputs": [
    {
     "name": "stdout",
     "output_type": "stream",
     "text": [
      "[[0 1 2]\n",
      " [3 4 5]]\n",
      "[0 1 2 3 4 5]\n"
     ]
    }
   ],
   "source": [
    "A = np.arange(6).reshape((2, 3))\n",
    "print(A)\n",
    "a = A.flatten()\n",
    "print(a)"
   ]
  },
  {
   "cell_type": "markdown",
   "metadata": {},
   "source": []
  }
 ],
 "metadata": {
  "kernelspec": {
   "display_name": "Python 3",
   "language": "python",
   "name": "python3"
  },
  "language_info": {
   "codemirror_mode": {
    "name": "ipython",
    "version": 3
   },
   "file_extension": ".py",
   "mimetype": "text/x-python",
   "name": "python",
   "nbconvert_exporter": "python",
   "pygments_lexer": "ipython3",
   "version": "3.10.12"
  }
 },
 "nbformat": 4,
 "nbformat_minor": 2
}
