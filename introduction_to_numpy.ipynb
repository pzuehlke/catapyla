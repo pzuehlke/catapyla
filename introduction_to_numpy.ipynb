{
 "cells": [
  {
   "cell_type": "markdown",
   "metadata": {},
   "source": [
    "# Introduction to NumPy\n",
    "\n",
    "## $ \\S 1 $ Motivation\n",
    "\n",
    "Suppose that we wish to represent three-dimensional vectors such as $ u = (1, 2,\n",
    "3) $ or $ v = (-1, 0, 1) $ in Python. It is natural to think that either lists\n",
    "or tuples might be a good choice for this task."
   ]
  },
  {
   "cell_type": "code",
   "execution_count": 20,
   "metadata": {},
   "outputs": [],
   "source": [
    "u = [1, 2, 3]   # Create a list whose elements are 1, 2, 3\n",
    "v = [-1, 0, 1]"
   ]
  },
  {
   "cell_type": "markdown",
   "metadata": {},
   "source": [
    "However, at some point we will probably wish not only to store, but to manipulate\n",
    "vectors. For instance, how can we add $ u $ and $ v $ or take a multiple of $ v $? It\n",
    "is reasonable to try the following code:"
   ]
  },
  {
   "cell_type": "code",
   "execution_count": 4,
   "metadata": {},
   "outputs": [
    {
     "name": "stdout",
     "output_type": "stream",
     "text": [
      "[1, 2, 3, -1, 0, 1]\n",
      "[-1, 0, 1, -1, 0, 1, -1, 0, 1]\n"
     ]
    }
   ],
   "source": [
    "s = u + v\n",
    "multiple = 3 * v\n",
    "print(s)\n",
    "print(multiple)"
   ]
  },
  {
   "cell_type": "markdown",
   "metadata": {},
   "source": [
    "These unexpected results can be explained by recalling that for either lists or\n",
    "tuples (or strings), the `+` operator denotes _concatenation_, not addition; and\n",
    "accordingly, `*` denotes _repetition_, not multiplication. This behavior is not\n",
    "so strange at all if we take into account that lists and tuples are _generic_\n",
    "sequential types, capable of holding objects of arbitrary types, for which\n",
    "addition or multiplication might not make sense."
   ]
  },
  {
   "cell_type": "markdown",
   "metadata": {},
   "source": [
    "__Exercise:__ What happens if you represent $ u $ and $ v $ as tuples and try to take their difference $ u - v $? What if they are represented as lists?"
   ]
  },
  {
   "cell_type": "code",
   "execution_count": null,
   "metadata": {},
   "outputs": [],
   "source": []
  },
  {
   "cell_type": "markdown",
   "metadata": {},
   "source": [
    "## $ \\S 2 $ Arrays\n",
    "\n",
    "### $ 2.1 $ NumPy arrays\n",
    "\n",
    "**NumPy**, which stands for _Numerical Python_, is a foundational package\n",
    "for scientific computing in Python. It is almost universally imported with the\n",
    "`np` alias, as follows:"
   ]
  },
  {
   "cell_type": "code",
   "execution_count": 1,
   "metadata": {},
   "outputs": [],
   "source": [
    "import numpy as np"
   ]
  },
  {
   "cell_type": "markdown",
   "metadata": {},
   "source": [
    "The central feature in NumPy is a new data structure called an **ndarray**\n",
    "(an abbreviation of $n$-dimensional array), or simply **array**. An ndarray is a\n",
    "grid of values _of the same type_, usually numerical. In other words, arrays\n",
    "must be **homogeneous**. For example, a $ 1 $-dimensional array is essentially a vector in\n",
    "the sense of Linear Algebra, as in the discussion in $ \\S 1 $.  Arrays can be\n",
    "instantiated with the `array` function:"
   ]
  },
  {
   "cell_type": "code",
   "execution_count": 19,
   "metadata": {},
   "outputs": [
    {
     "name": "stdout",
     "output_type": "stream",
     "text": [
      "[1 2 3]\n",
      "Note the absence of commas (,) separating the entries when an array is displayed.\n",
      "The type of an array such as u is: <class 'numpy.ndarray'>\n"
     ]
    }
   ],
   "source": [
    "u = np.array([1, 2, 3])\n",
    "print(u)\n",
    "print(\"Note the absence of commas (,) separating the entries when an array is displayed.\")\n",
    "print(f\"The type of an array such as u is: {type(u)}\")"
   ]
  },
  {
   "cell_type": "markdown",
   "metadata": {},
   "source": [
    "The number of dimensions of an array is also called its **rank**. A $ 2 $-dimensional\n",
    "array, or array of rank $ 2 $, is just a matrix."
   ]
  },
  {
   "cell_type": "code",
   "execution_count": 13,
   "metadata": {},
   "outputs": [
    {
     "name": "stdout",
     "output_type": "stream",
     "text": [
      "[[1 1 1 1]\n",
      " [2 2 2 2]\n",
      " [3 3 3 3]]\n",
      "<class 'numpy.ndarray'>\n"
     ]
    }
   ],
   "source": [
    "A = np.array([[1, 1, 1, 1],   # first row of matrix A\n",
    "              [2, 2, 2, 2],   # second row\n",
    "              [3, 3, 3, 3]])  # third row\n",
    "print(A)\n",
    "print(type(A))"
   ]
  },
  {
   "cell_type": "markdown",
   "metadata": {},
   "source": [
    "Note the use of _double_ brackets here: the first opening bracket `[` serves\n",
    "to delimit the array, while the second one is being used to delimit the elements\n",
    "of the first row. The rows are separated by commas, as are the elements within each row.\n"
   ]
  },
  {
   "cell_type": "markdown",
   "metadata": {},
   "source": [
    "__Exercise:__ How would you create the matrix\n",
    "$$\n",
    "B = \\begin{equation*}\n",
    "\\left[ \\begin{array}{cc}\n",
    "b_{11} & b_{12} \\\\\n",
    "b_{21} & b_{22} \\\\\n",
    "b_{31} & b_{32} \\\\\n",
    "b_{41} & b_{42}\n",
    "\\end{array} \\right]\n",
    "\\end{equation*}\n",
    "$$\n",
    "where $ b_{ij} = i \\cdot j $?"
   ]
  },
  {
   "cell_type": "code",
   "execution_count": null,
   "metadata": {},
   "outputs": [],
   "source": []
  },
  {
   "cell_type": "markdown",
   "metadata": {},
   "source": [
    "📝 To recap, `ndarray` is the official name of the data type provided by NumPy, and `array` is both\n",
    "the informal name of this data type and the name of the function that we can use\n",
    "to create ndarrays by explicitily listing all of its entries.\n",
    "\n",
    "A $ 3D$ array is to a matrix as a solid block is to a rectangle. In other words,\n",
    "a rank $ 3 $ array is one having three axes, instead of just two. There is no\n",
    "bound on the number of dimensions that an array can have, although for most\n",
    "applications, arrays of dimension greater than $ 3 $ are rarely used. "
   ]
  },
  {
   "cell_type": "markdown",
   "metadata": {},
   "source": [
    "__Exercise:__ Build a three-dimensional array of shape $ (2, 3, 2) $. _Hint:_ You will need triple opening brackets to start. It may help to think of the array as having $ 2 $ \"rows\", each of which is a $ 3 \\times 2 $ matrix."
   ]
  },
  {
   "cell_type": "code",
   "execution_count": null,
   "metadata": {},
   "outputs": [],
   "source": []
  },
  {
   "cell_type": "markdown",
   "metadata": {},
   "source": [
    "There are other ways of creating arrays that are often more convenient than through use of the `array` function. For instance,\n",
    "to create an array of a desired shape filled with $ 0\\text{s} $, we can use `zeros`:"
   ]
  },
  {
   "cell_type": "code",
   "execution_count": 33,
   "metadata": {},
   "outputs": [
    {
     "name": "stdout",
     "output_type": "stream",
     "text": [
      "[[0. 0. 0. 0.]\n",
      " [0. 0. 0. 0.]\n",
      " [0. 0. 0. 0.]\n",
      " [0. 0. 0. 0.]]\n"
     ]
    }
   ],
   "source": [
    "Z = np.zeros((4, 4))\n",
    "print(Z)"
   ]
  },
  {
   "cell_type": "markdown",
   "metadata": {},
   "source": [
    "📝 Note the necessary double parentheses in this call, one to delimit the arguments of the function and the other to specify the shape."
   ]
  },
  {
   "cell_type": "markdown",
   "metadata": {},
   "source": [
    "Arrays can also be automatically populated with $ 1\\text{s} $ by means of the function `ones`: "
   ]
  },
  {
   "cell_type": "code",
   "execution_count": 36,
   "metadata": {},
   "outputs": [
    {
     "name": "stdout",
     "output_type": "stream",
     "text": [
      "[[1. 1. 1.]\n",
      " [1. 1. 1.]]\n"
     ]
    }
   ],
   "source": [
    "U = np.ones((2, 3))\n",
    "print(U)"
   ]
  },
  {
   "cell_type": "markdown",
   "metadata": {},
   "source": [
    "The `arange` function is like the Python built-in `range`, except that it returns an ndarray:"
   ]
  },
  {
   "cell_type": "code",
   "execution_count": 52,
   "metadata": {},
   "outputs": [
    {
     "name": "stdout",
     "output_type": "stream",
     "text": [
      "<class 'numpy.ndarray'> [0 1 2 3 4 5 6 7 8 9]\n"
     ]
    }
   ],
   "source": [
    "digits = np.arange(10)\n",
    "print(type(digits), digits)\n"
   ]
  },
  {
   "cell_type": "markdown",
   "metadata": {},
   "source": [
    "The full syntax is `arange(<start>, <stop>, <step>)`, just like for `range`:"
   ]
  },
  {
   "cell_type": "code",
   "execution_count": 39,
   "metadata": {},
   "outputs": [
    {
     "name": "stdout",
     "output_type": "stream",
     "text": [
      "[4 6 8]\n"
     ]
    }
   ],
   "source": [
    "y =np.arange(4, 10, 2)\n",
    "print(y)"
   ]
  },
  {
   "cell_type": "markdown",
   "metadata": {},
   "source": [
    "One advantage of `arange` over `range` is that it accepts arguments of type float, for instance:"
   ]
  },
  {
   "cell_type": "code",
   "execution_count": null,
   "metadata": {},
   "outputs": [
    {
     "name": "stdout",
     "output_type": "stream",
     "text": [
      "[0.1 0.2 0.3 0.4 0.5 0.6 0.7 0.8 0.9]\n"
     ]
    }
   ],
   "source": [
    "x = np.arange(0.1, 1, 0.1)\n",
    "print(x)"
   ]
  },
  {
   "cell_type": "markdown",
   "metadata": {},
   "source": [
    "However, this feature must be used with care, because sometimes rounding errors may lead to unexpected results, as in the following example:"
   ]
  },
  {
   "cell_type": "code",
   "execution_count": 50,
   "metadata": {},
   "outputs": [
    {
     "name": "stdout",
     "output_type": "stream",
     "text": [
      "[1.  1.1 1.2 1.3]\n",
      "Note that the value 1.3 was included!\n"
     ]
    }
   ],
   "source": [
    "print(np.arange(1, 1.3, 0.1))\n",
    "print(\"Note that the value 1.3 was included!\")"
   ]
  },
  {
   "cell_type": "markdown",
   "metadata": {},
   "source": [
    "Alternatively, with `linspace` we can create an array containing linearly spaced values inside a specified interval. The syntax is similar, except that the stop value in the second argument is included in the result, and the third argument gives the _number of values_ to be generated, instead of the step size:"
   ]
  },
  {
   "cell_type": "code",
   "execution_count": 45,
   "metadata": {},
   "outputs": [
    {
     "name": "stdout",
     "output_type": "stream",
     "text": [
      "[ 0.  1.  2.  3.  4.  5.  6.  7.  8.  9. 10.]\n",
      "[ 0.          1.11111111  2.22222222  3.33333333  4.44444444  5.55555556\n",
      "  6.66666667  7.77777778  8.88888889 10.        ]\n"
     ]
    }
   ],
   "source": [
    "z = np.linspace(0, 10, 11)\n",
    "print(z)\n",
    "w = np.linspace(0, 10, 10)\n",
    "print(w)"
   ]
  },
  {
   "cell_type": "markdown",
   "metadata": {},
   "source": [
    "We can exclude the stop value in `linspace` using `endpoint=False`:"
   ]
  },
  {
   "cell_type": "code",
   "execution_count": 51,
   "metadata": {},
   "outputs": [
    {
     "name": "stdout",
     "output_type": "stream",
     "text": [
      "[0. 1. 2. 3. 4. 5. 6. 7. 8. 9.]\n"
     ]
    }
   ],
   "source": [
    "print(np.linspace(0, 10, 10, endpoint=False))"
   ]
  },
  {
   "cell_type": "markdown",
   "metadata": {},
   "source": [
    "### $ 2.2 $ NumPy features\n",
    "\n",
    "Besides arrays, other features provided by NumPy include (but are not limited to):\n",
    "* Operations with, functions on and manipulation of arrays;\n",
    "* Fourier transforms and signal processing;\n",
    "* Basic statistical operations;\n",
    "* Random number generation;\n",
    "* Integration with various databases and file formats for data import/export.\n",
    "\n",
    "In summary, NumPy provides a high-performance multidimensional array object,\n",
    "along with tools for working with these arrays. As we will see, arrays\n",
    "are far more efficient and convenient for numerical computation than Python's\n",
    "built-in data types, such as lists. NumPy is widely used in data analysis,\n",
    "machine learning, engineering, and other fields that require intensive numerical\n",
    "computation. It also serves as the basis for higher-level scientific computing\n",
    "libraries such as SciPy, Pandas, and scikit-learn. "
   ]
  },
  {
   "cell_type": "markdown",
   "metadata": {},
   "source": [
    "### $ 2.3 $ Attributes of arrays\n",
    "\n",
    "Just as in Linear Algebra, a $ 2D $ array can have any **shape**, which is the\n",
    "number of elements along each of its **axes** (horizontal and vertical).\n",
    "Referring to the preceding example, the shape of our matrix $ A $ is $ 3 \\times 4 $,\n",
    "or $ (3, 4) $, since it has three rows and four columns:"
   ]
  },
  {
   "cell_type": "code",
   "execution_count": 14,
   "metadata": {},
   "outputs": [
    {
     "name": "stdout",
     "output_type": "stream",
     "text": [
      "2\n",
      "(3, 4)\n"
     ]
    }
   ],
   "source": [
    "print(A.ndim)    # Print the number of dimensions of A\n",
    "print(A.shape)   # Print the shape of A"
   ]
  },
  {
   "cell_type": "markdown",
   "metadata": {},
   "source": [
    "The number of dimensions of an array is always a positive integer, while the shape is always a tuple, even when the array is one-dimensional:"
   ]
  },
  {
   "cell_type": "code",
   "execution_count": 35,
   "metadata": {},
   "outputs": [
    {
     "name": "stdout",
     "output_type": "stream",
     "text": [
      "(3,)\n",
      "<class 'tuple'>\n"
     ]
    }
   ],
   "source": [
    "a = np.array([11, 13, 17])\n",
    "print(a.shape)\n",
    "print(type(a.shape))"
   ]
  },
  {
   "cell_type": "markdown",
   "metadata": {},
   "source": [
    "An object such as $ A $ has several **attributes**, which are just certain\n",
    "properties associated to any element of the same class (in this case, that of\n",
    "ndarrays). To access an attribute of an object `x`, we use the syntax\n",
    "`x.attribute`.\n",
    "\n",
    "The two main attributes of ndarrays are `shape` and `ndim`. Other key\n",
    "attributes include `size`, i.e., the total number of elements in the array, and\n",
    "`dtype`, which yields the data type of its elements."
   ]
  },
  {
   "cell_type": "markdown",
   "metadata": {},
   "source": [
    "__Exercise:__ If an array has shape $ (2, 3, 4) $, what is its size? More generally, what is the size of an array of shape $ (n_1, n_2, \\cdots, n_d) $? What is the type of the object returned by `size`?"
   ]
  },
  {
   "cell_type": "code",
   "execution_count": null,
   "metadata": {},
   "outputs": [],
   "source": []
  },
  {
   "cell_type": "markdown",
   "metadata": {},
   "source": [
    "__Exercise:__ Let\n",
    "$$\n",
    "B = \\begin{bmatrix}\n",
    "1 & 2 & 3 \\\\\n",
    "-4 & -5 & -6 \\\\\n",
    "\\end{bmatrix}\\,.\n",
    "$$\n",
    "Use NumPy to create this array and compute its dimension, shape, size and datatype.\n",
    "Can you build an array whose datatype is `bool`?"
   ]
  },
  {
   "cell_type": "code",
   "execution_count": null,
   "metadata": {},
   "outputs": [],
   "source": []
  },
  {
   "cell_type": "markdown",
   "metadata": {},
   "source": [
    "### $ 2.4 $ Array methods\n",
    "\n",
    "Besides attributes, objects of a certain class usually come with predefined\n",
    "**methods**, which are simply functions associated to objects of that class. The\n",
    "syntax for calling method `f` of object `x` is `x.f(<arguments>)`. For instance,\n",
    "the `sum` method associated to each array returns the sum of all of its entries:"
   ]
  },
  {
   "cell_type": "code",
   "execution_count": 29,
   "metadata": {},
   "outputs": [
    {
     "name": "stdout",
     "output_type": "stream",
     "text": [
      "2.5\n"
     ]
    }
   ],
   "source": [
    "C = np.array([[-1.0, 2.3, 3.7],\n",
    "              [-4.5, 2.7, -0.7]])\n",
    "print(C.sum())"
   ]
  },
  {
   "cell_type": "markdown",
   "metadata": {},
   "source": [
    "As an optional argument to `sum`, we can designate an axis over which the sum should take place. As always in Python, indexing is zero-based, meaning that for matrix $ C $ above, the rows lie along axis $ 0 $ and the columns along axis $ 1 $."
   ]
  },
  {
   "cell_type": "code",
   "execution_count": 28,
   "metadata": {},
   "outputs": [
    {
     "name": "stdout",
     "output_type": "stream",
     "text": [
      "[-5.5  5.   3.2]\n"
     ]
    }
   ],
   "source": [
    "print(C.sum(axis=0))"
   ]
  },
  {
   "cell_type": "markdown",
   "metadata": {},
   "source": [
    "We think of $ C $ as the matrix $ C = (c_{ij}) $, where $ i $ is the index for axis $ 0 $ (i.e., the index of rows), then taking the sum along this axis means that for fixed $ j $, NumPy computes $ \\sum_{i} c_{ij} $, resulting in the preceding $ 3D $ vector since $ C $ has three columns."
   ]
  },
  {
   "cell_type": "markdown",
   "metadata": {},
   "source": [
    "__Exercise:__ Compute the sum of the entries of $ C $ along the column index."
   ]
  },
  {
   "cell_type": "code",
   "execution_count": null,
   "metadata": {},
   "outputs": [],
   "source": []
  },
  {
   "cell_type": "markdown",
   "metadata": {},
   "source": [
    "## $ \\S X $ Reshaping arrays\n",
    "\n",
    "Reshaping arrays is a common and fundamental operation in NumPy. There is both\n",
    "a function and a method named `reshape` that can accomplish this:"
   ]
  },
  {
   "cell_type": "code",
   "execution_count": 26,
   "metadata": {},
   "outputs": [
    {
     "name": "stdout",
     "output_type": "stream",
     "text": [
      "[1 2 3 4 5 6]\n",
      "\n",
      "[[1 2]\n",
      " [3 4]\n",
      " [5 6]]\n",
      "\n",
      "[[1 2 3]\n",
      " [4 5 6]]\n",
      "\n"
     ]
    }
   ],
   "source": [
    "a = np.array([1, 2, 3, 4, 5, 6])\n",
    "print(a, end='\\n\\n')\n",
    "\n",
    "A = np.reshape(a, (3, 2))  # Here we use the _function_ `reshape`\n",
    "B = a.reshape((2, 3))   # Here we use the `reshape` method\n",
    "\n",
    "print(A, end='\\n\\n')  # Here a has been reshaped into a 3 by 2 matrix\n",
    "print(B, end='\\n\\n')  # Here a has been reshaped into a 2 by 3 matrix\n"
   ]
  },
  {
   "cell_type": "markdown",
   "metadata": {},
   "source": [
    "Note that when reshaping an array, the new shape must be compatible with the\n",
    "size of the original array. For example, the following results in an error:"
   ]
  },
  {
   "cell_type": "code",
   "execution_count": null,
   "metadata": {},
   "outputs": [],
   "source": [
    "C = np.reshape(a, (2, 2))"
   ]
  },
  {
   "cell_type": "markdown",
   "metadata": {},
   "source": [
    "When reshaping an array, we may also specify $ -1 $ in a dimension to instruct\n",
    "NumPy to infer the number of elements along that dimension from the size of the\n",
    "array and that of the remaining dimensions. This is especially useful when an\n",
    "array is passed to us by the user as an argument in a function call, but we do\n",
    "not know in advance how many entries it has:"
   ]
  },
  {
   "cell_type": "code",
   "execution_count": 27,
   "metadata": {},
   "outputs": [
    {
     "name": "stdout",
     "output_type": "stream",
     "text": [
      "[[1]\n",
      " [2]\n",
      " [3]\n",
      " [4]]\n"
     ]
    }
   ],
   "source": [
    "a = np.array([[1, 2],\n",
    "              [3, 4]])\n",
    "A = a.reshape((-1, 1))  # Reshape into a column vector\n",
    "print(A)"
   ]
  },
  {
   "cell_type": "markdown",
   "metadata": {},
   "source": [
    "In this example we wanted to reshape our array so that the result would have\n",
    "one column, but didn't want to figure out how many rows it should have for that\n",
    "to happen. Here's another example, in which we reshape a $ 1D $ array into a\n",
    "matrix and then to a row vector:"
   ]
  },
  {
   "cell_type": "code",
   "execution_count": 28,
   "metadata": {},
   "outputs": [
    {
     "name": "stdout",
     "output_type": "stream",
     "text": [
      "[ 1  2  3  4  5  6  7  8  9 10 11 12]\n",
      "\n",
      "[[ 1  2  3  4]\n",
      " [ 5  6  7  8]\n",
      " [ 9 10 11 12]]\n",
      "\n",
      "[[ 1  2  3  4  5  6  7  8  9 10 11 12]]\n",
      "\n"
     ]
    }
   ],
   "source": [
    "x = np.arange(1, 13)\n",
    "X = x.reshape((3, -1))\n",
    "x_col = X.reshape((1, -1))\n",
    "\n",
    "print(x, end='\\n\\n')\n",
    "print(X, end='\\n\\n')\n",
    "print(x_col, end='\\n\\n')"
   ]
  },
  {
   "cell_type": "markdown",
   "metadata": {},
   "source": [
    "📝 There is no essential difference between the function and the method versions\n",
    "of `reshape`. In both cases, NumPy returns a _new_ array, while the original\n",
    "array remains unchanged. However, these operations provide a view of the\n",
    "original array's data whenever possible, meaning that they do not copy the\n",
    "array's data unless necessary. Thus, _modifications to the data in the reshaped\n",
    "array can affect the original array and vice versa_. Let's use the previous\n",
    "example to illustrate this:"
   ]
  },
  {
   "cell_type": "code",
   "execution_count": 18,
   "metadata": {},
   "outputs": [
    {
     "name": "stdout",
     "output_type": "stream",
     "text": [
      "[-23   2   3   4   5   6   7   8   9  10  11  12]\n"
     ]
    }
   ],
   "source": [
    "X[0, 0] = -23  # Modify the top left element of X\n",
    "print(x)  # The 0th element of x has also been affected!"
   ]
  },
  {
   "cell_type": "markdown",
   "metadata": {},
   "source": [
    "To create an independent copy of a NumPy array, we can use the `copy` method.\n",
    "This method generates a new array object with the same data as the original\n",
    "array, but stored in a separate memory location."
   ]
  },
  {
   "cell_type": "code",
   "execution_count": 25,
   "metadata": {},
   "outputs": [
    {
     "name": "stdout",
     "output_type": "stream",
     "text": [
      "[10  1  2]\n",
      "[[0 1 2]]\n"
     ]
    }
   ],
   "source": [
    "y = np.arange(3)  # y is the 1D array with entries 0, 1, 2\n",
    "Y = y.copy().reshape((1, -1))  # Reshape y into an independent 2D row vector\n",
    "y[0] = 10  # Modify 0th element of y\n",
    "print(y)\n",
    "print(Y)  # The 0th element of Y is not affected, since Y is an independent copy"
   ]
  },
  {
   "cell_type": "markdown",
   "metadata": {},
   "source": [
    "The `flatten` method takes a multi-dimensional array and returns a new,\n",
    "independent one-dimensional array containing all of the elements of the original\n",
    "array, while preserving their order. "
   ]
  },
  {
   "cell_type": "code",
   "execution_count": 30,
   "metadata": {},
   "outputs": [
    {
     "name": "stdout",
     "output_type": "stream",
     "text": [
      "[1 2 3 4]\n"
     ]
    }
   ],
   "source": [
    "A = np.array([[1, 2],\n",
    "              [3, 4]])\n",
    "a = A.flatten()\n",
    "print(a)"
   ]
  },
  {
   "cell_type": "markdown",
   "metadata": {},
   "source": [
    "The order in which the elements are placed in the flattened array is based on\n",
    "the lexicographic ordering of their indices in the original array. For example,\n",
    "if we are dealing with a $ 3D $ array, then the entry at position $ (0, 0, 2) $\n",
    "comes before the entry at $ (0, 1, 0) $, which will be placed before the entry\n",
    "at $ (1, 0, 0) $."
   ]
  },
  {
   "cell_type": "code",
   "execution_count": 37,
   "metadata": {},
   "outputs": [
    {
     "name": "stdout",
     "output_type": "stream",
     "text": [
      "[[0 1 2]\n",
      " [3 4 5]]\n",
      "[0 1 2 3 4 5]\n"
     ]
    }
   ],
   "source": [
    "A = np.arange(6).reshape((2, 3))\n",
    "print(A)\n",
    "a = A.flatten()\n",
    "print(a)"
   ]
  },
  {
   "cell_type": "markdown",
   "metadata": {},
   "source": []
  }
 ],
 "metadata": {
  "kernelspec": {
   "display_name": "Python 3",
   "language": "python",
   "name": "python3"
  },
  "language_info": {
   "codemirror_mode": {
    "name": "ipython",
    "version": 3
   },
   "file_extension": ".py",
   "mimetype": "text/x-python",
   "name": "python",
   "nbconvert_exporter": "python",
   "pygments_lexer": "ipython3",
   "version": "3.10.12"
  }
 },
 "nbformat": 4,
 "nbformat_minor": 2
}
