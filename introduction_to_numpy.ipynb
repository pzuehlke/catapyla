{
 "cells": [
  {
   "cell_type": "markdown",
   "metadata": {},
   "source": [
    "# Introduction to NumPy\n",
    "\n",
    "**NumPy**, which stands for _Numerical Python_, is a foundational package\n",
    "for scientific computing in Python. It is almost universally imported with the\n",
    "`np` alias, as follows:"
   ]
  },
  {
   "cell_type": "code",
   "execution_count": 2,
   "metadata": {},
   "outputs": [],
   "source": [
    "import numpy as np"
   ]
  },
  {
   "cell_type": "markdown",
   "metadata": {},
   "source": [
    "The central feature in NumPy is a new data structure called an **ndarray**\n",
    "(an abbreviation of $n$-dimensional array), or simply **array**. An ndarray is a\n",
    "grid of values of the same type, usually numerical.  For example, a $ 1 $-dimensional\n",
    "array is essentially a vector in the sense of Linear Algebra. It can be\n",
    "instantiated with the `array` function."
   ]
  },
  {
   "cell_type": "code",
   "execution_count": 7,
   "metadata": {},
   "outputs": [
    {
     "name": "stdout",
     "output_type": "stream",
     "text": [
      "[1 2 3]\n",
      "<class 'numpy.ndarray'>\n"
     ]
    }
   ],
   "source": [
    "v = np.array([1, 2, 3])\n",
    "print(v)\n",
    "print(type(v))"
   ]
  },
  {
   "cell_type": "markdown",
   "metadata": {},
   "source": [
    "The number of dimensions of an array is also called its **rank**. A $ 2 $-dimensional\n",
    "array, or array of rank $ 2 $, is just a matrix."
   ]
  },
  {
   "cell_type": "code",
   "execution_count": 9,
   "metadata": {},
   "outputs": [
    {
     "name": "stdout",
     "output_type": "stream",
     "text": [
      "[[1 1 1 1]\n",
      " [2 2 2 2]\n",
      " [3 3 3 3]]\n",
      "<class 'numpy.ndarray'>\n"
     ]
    }
   ],
   "source": [
    "A = np.array([[1, 1, 1, 1],  # first row of matrix A\n",
    "              [2, 2, 2, 2],  # second row\n",
    "              [3, 3, 3, 3]]  # third row\n",
    "             )\n",
    "print(A)\n",
    "print(type(A))"
   ]
  },
  {
   "cell_type": "markdown",
   "metadata": {},
   "source": [
    "Note the use of _double_ brackets here: the first opening bracket `[` serves\n",
    "to delimit the array, while the second one is being used to delimit the elements\n",
    "of the first row. The rows are separated by commas, as are the elements within each row.\n",
    "\n",
    "Just as in Linear Algebra, a $ 2D $ array can have any **shape**, which is the\n",
    "number of elements along each of its **axes** (horizontal and vertical).\n",
    "Referring to the preceding example, the shape of our matrix $ A $ is $ 3 \\times 4 $,\n",
    "or $ (3, 4) $, since it has three rows and four columns:"
   ]
  },
  {
   "cell_type": "code",
   "execution_count": 14,
   "metadata": {},
   "outputs": [
    {
     "name": "stdout",
     "output_type": "stream",
     "text": [
      "2\n",
      "(3, 4)\n"
     ]
    }
   ],
   "source": [
    "print(A.ndim)    # Print the number of dimensions of A\n",
    "print(A.shape)   # Print the shape of A"
   ]
  },
  {
   "cell_type": "markdown",
   "metadata": {},
   "source": [
    "__Exercise:__ How would you create the matrix\n",
    "$$\n",
    "B = \\begin{equation*}\n",
    "\\left[ \\begin{array}{cc}\n",
    "b_{11} & b_{12} \\\\\n",
    "b_{21} & b_{22} \\\\\n",
    "b_{31} & b_{32} \\\\\n",
    "b_{41} & b_{42}\n",
    "\\end{array} \\right]\n",
    "\\end{equation*}\n",
    "$$\n",
    "where $ b_{ij} = i \\cdot j $?"
   ]
  },
  {
   "cell_type": "code",
   "execution_count": null,
   "metadata": {},
   "outputs": [],
   "source": []
  },
  {
   "cell_type": "markdown",
   "metadata": {},
   "source": [
    "📝 To recap, `ndarray` is the official name of the data type provided by NumPy, and `array` is both\n",
    "the informal name of this data type and the function that we can use to create ndarrays.\n",
    "\n",
    "A $ 3D$ array is to a matrix as a solid block is to a rectangle. In other words,\n",
    "a rank $ 3 $ array is one having three axes, instead of just two. There is no\n",
    "bound on the number of dimensions that an array can have, although for most\n",
    "applications arrays of dimension greater than $ 3 $ are rarely used. "
   ]
  },
  {
   "cell_type": "markdown",
   "metadata": {},
   "source": [
    "__Exercise:__ Build a three-dimensional array of shape $ (2, 3, 2) $. _Hint:_ You will need triple opening brackets to start. It may help to think of the array as having $ 2 $ rows whose elements are $ 3 \\times 2 $ matrices."
   ]
  },
  {
   "cell_type": "code",
   "execution_count": null,
   "metadata": {},
   "outputs": [],
   "source": []
  },
  {
   "cell_type": "markdown",
   "metadata": {},
   "source": [
    "Besides arrays, other features provided by NumPy include (but are not limited to):\n",
    "* Operations with, functions on and manipulation of arrays\n",
    "* Fourier transforms and signal processing\n",
    "* Basic statistical operations\n",
    "* Random number generation\n",
    "* Integration with various databases and file formats for data import/export\n",
    "\n",
    "In summary, NumPy provides a high-performance multidimensional array object,\n",
    "along with tools for working with these arrays. As we will see, arrays\n",
    "are far more efficient and convenient for numerical computation than Python's\n",
    "built-in data types, such as lists. NumPy is widely used in data analysis,\n",
    "machine learning, engineering, and other fields that require intensive numerical\n",
    "computation. It also serves as the basis for higher-level scientific computing\n",
    "libraries such as SciPy, Pandas, and scikit-learn, cementing its role as a core\n",
    "component of the Python ecosystem."
   ]
  },
  {
   "cell_type": "markdown",
   "metadata": {},
   "source": []
  }
 ],
 "metadata": {
  "kernelspec": {
   "display_name": "Python 3",
   "language": "python",
   "name": "python3"
  },
  "language_info": {
   "codemirror_mode": {
    "name": "ipython",
    "version": 3
   },
   "file_extension": ".py",
   "mimetype": "text/x-python",
   "name": "python",
   "nbconvert_exporter": "python",
   "pygments_lexer": "ipython3",
   "version": "3.10.12"
  }
 },
 "nbformat": 4,
 "nbformat_minor": 2
}
