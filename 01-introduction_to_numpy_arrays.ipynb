{
 "cells": [
  {
   "cell_type": "markdown",
   "metadata": {},
   "source": [
    "# Introduction to NumPy arrays\n",
    "\n",
    "## $ \\S 1 $ Motivation\n",
    "\n",
    "Suppose that we wish to represent three-dimensional vectors such as $ \\mathbf{u}\n",
    "= (1, 2, 3) $ or $ \\mathbf{v} = (-1, 0, 1) $ in Python. It is natural to think\n",
    "that either lists or tuples might be a good choice for this task."
   ]
  },
  {
   "cell_type": "code",
   "execution_count": 3,
   "metadata": {},
   "outputs": [],
   "source": [
    "u = [1, 2, 3]   # Create a list whose elements are 1, 2, 3\n",
    "v = [-1, 0, 1]"
   ]
  },
  {
   "cell_type": "markdown",
   "metadata": {},
   "source": [
    "However, at some point we will probably wish not only to store, but to manipulate\n",
    "these vectors. For instance, how can we add $ \\mathbf u $ and $ \\mathbf v $ or\n",
    "take a multiple of $ \\mathbf v $? It is reasonable to try the following code:"
   ]
  },
  {
   "cell_type": "code",
   "execution_count": 4,
   "metadata": {},
   "outputs": [
    {
     "name": "stdout",
     "output_type": "stream",
     "text": [
      "[1, 2, 3, -1, 0, 1]\n",
      "[-1, 0, 1, -1, 0, 1, -1, 0, 1]\n"
     ]
    }
   ],
   "source": [
    "s = u + v\n",
    "multiple = 3 * v\n",
    "print(s)\n",
    "print(multiple)"
   ]
  },
  {
   "cell_type": "markdown",
   "metadata": {},
   "source": [
    "These unexpected results can be explained by recalling that for either lists or\n",
    "tuples (or strings), the `+` operator denotes _concatenation_, not addition; and\n",
    "accordingly, `*` denotes _repetition_, not multiplication. This behavior is not\n",
    "so strange at all if we take into account that lists and tuples are _generic_\n",
    "sequential types, capable of holding objects of arbitrary types, for which\n",
    "addition and multiplication might not make sense."
   ]
  },
  {
   "cell_type": "markdown",
   "metadata": {},
   "source": [
    "__Exercise:__ What happens if you represent $ \\mathbf u $ and $ \\mathbf v $ as\n",
    "tuples and try to take their difference $ \\mathbf u - \\mathbf v $? What if they\n",
    "are represented as lists?"
   ]
  },
  {
   "cell_type": "code",
   "execution_count": null,
   "metadata": {},
   "outputs": [],
   "source": []
  },
  {
   "cell_type": "markdown",
   "metadata": {},
   "source": [
    "Vectors and matrices are fundamental objects in engineering, data\n",
    "science and machine learning. There is thus a clear need for a library that\n",
    "extends Python by providing efficient ways to operate on these objects."
   ]
  },
  {
   "cell_type": "markdown",
   "metadata": {},
   "source": [
    "## $ \\S 2 $ Arrays\n",
    "\n",
    "**NumPy**, which stands for _Numerical Python_, is a foundational package\n",
    "for scientific computing in Python. It is almost universally imported with the\n",
    "`np` alias, as follows:"
   ]
  },
  {
   "cell_type": "code",
   "execution_count": 2,
   "metadata": {},
   "outputs": [],
   "source": [
    "import numpy as np"
   ]
  },
  {
   "cell_type": "markdown",
   "metadata": {},
   "source": [
    "The central feature in NumPy is a new data structure called an **ndarray** (an\n",
    "abbreviation of $n$-dimensional array), or simply **array**. An ndarray is a\n",
    "grid of values _of the same type_; in other words, arrays must be\n",
    "**homogeneous**. This type is usually, but not always, numerical. For example,\n",
    "it is also possible to create an array whose elements are booleans, or \n",
    "strings. \n",
    "\n",
    "A $ 1 $-dimensional (numerical) array is essentially a vector in the sense of\n",
    "Linear Algebra, as in the discussion in $ \\S 1 $.  Arrays can be instantiated\n",
    "with the `array` function:"
   ]
  },
  {
   "cell_type": "code",
   "execution_count": 15,
   "metadata": {},
   "outputs": [
    {
     "name": "stdout",
     "output_type": "stream",
     "text": [
      "[1 2 3]\n",
      "Note the absence of commas (,) separating the entries when an array is displayed.\n",
      "The type of an array such as u is: <class 'numpy.ndarray'>\n"
     ]
    }
   ],
   "source": [
    "u = np.array([1, 2, 3])\n",
    "print(u)\n",
    "print(\"Note the absence of commas (,) separating the entries when an array is displayed.\")\n",
    "print(f\"The type of an array such as u is: {type(u)}\")"
   ]
  },
  {
   "cell_type": "markdown",
   "metadata": {},
   "source": [
    "The number of dimensions of an array is also called its **rank**. A $ 2 $-dimensional\n",
    "array, or array of rank $ 2 $, is just a matrix. "
   ]
  },
  {
   "cell_type": "code",
   "execution_count": 16,
   "metadata": {},
   "outputs": [
    {
     "name": "stdout",
     "output_type": "stream",
     "text": [
      "[[1 1 1 1]\n",
      " [2 2 2 2]\n",
      " [3 3 3 3]]\n",
      "<class 'numpy.ndarray'>\n"
     ]
    }
   ],
   "source": [
    "A = np.array([[1, 1, 1, 1],   # first row of matrix A\n",
    "              [2, 2, 2, 2],   # second row\n",
    "              [3, 3, 3, 3]])  # third row\n",
    "print(A)\n",
    "print(type(A))  # Print the type of object A"
   ]
  },
  {
   "cell_type": "markdown",
   "metadata": {},
   "source": [
    "Note the use of _double_ brackets here: the first opening bracket `[` serves\n",
    "to delimit the array itself, while the second one is being used to delimit the elements\n",
    "of the first row. The rows are separated by commas, as are elements within each row.\n",
    "\n",
    "The __shape__ of an array is a tuple of integers indicating the size of each of\n",
    "its dimensions. The preceding array $ \\mathbf A $ has shape $ (3, 4) $ since it\n",
    "has three rows and four columns."
   ]
  },
  {
   "cell_type": "code",
   "execution_count": 14,
   "metadata": {},
   "outputs": [
    {
     "name": "stdout",
     "output_type": "stream",
     "text": [
      "(3, 4)\n"
     ]
    }
   ],
   "source": [
    "print(A.shape)  # Print the shape of A"
   ]
  },
  {
   "cell_type": "markdown",
   "metadata": {},
   "source": [
    "__Exercise:__ What is the shape of a one-dimensional array, for instance the array\n",
    "$ \\mathbf b $ below? Can you explain the result of `b.shape`?"
   ]
  },
  {
   "cell_type": "code",
   "execution_count": 12,
   "metadata": {},
   "outputs": [],
   "source": [
    "b = np.array([True, False, False, True, False])"
   ]
  },
  {
   "cell_type": "markdown",
   "metadata": {},
   "source": [
    "__Exercise:__ How would you create the matrix\n",
    "$$\n",
    "\\mathbf B = \\begin{equation*}\n",
    "\\left[ \\begin{array}{cc}\n",
    "b_{11} & b_{12} \\\\\n",
    "b_{21} & b_{22} \\\\\n",
    "b_{31} & b_{32} \\\\\n",
    "b_{41} & b_{42}\n",
    "\\end{array} \\right]\n",
    "\\end{equation*}\n",
    "$$\n",
    "where $ b_{ij} = i \\cdot j $?"
   ]
  },
  {
   "cell_type": "code",
   "execution_count": null,
   "metadata": {},
   "outputs": [],
   "source": []
  },
  {
   "cell_type": "markdown",
   "metadata": {},
   "source": [
    "We may also use `array` to convert an existing tuple or list to a one-dimensional array:"
   ]
  },
  {
   "cell_type": "code",
   "execution_count": 7,
   "metadata": {},
   "outputs": [
    {
     "name": "stdout",
     "output_type": "stream",
     "text": [
      "[3.14 2.72 1.62]\n",
      "['pi' 'e' 'phi']\n"
     ]
    }
   ],
   "source": [
    "pi = 3.14\n",
    "e = 2.72\n",
    "phi = 1.62\n",
    "constants = [pi, e, phi]      # Create a list containing the values of three important numbers\n",
    "names = ('pi', 'e', 'phi')    # Create a tuple containing their names and assign it to `names`\n",
    "print(np.array(constants))    # Convert `constants` to an array and print the result\n",
    "print(np.array(names))        # Convert `names` to an array and print the result"
   ]
  },
  {
   "cell_type": "markdown",
   "metadata": {},
   "source": [
    "__Exercise:__ Can you make your solution to the previous exercise more efficient\n",
    "by using a list comprehension to generate the $ b_{ij} $ and then\n",
    "converting the list to an array? _Hint:_ You will need a double comprehension, of the form `[[... for j in ...] for i in ...]`. "
   ]
  },
  {
   "cell_type": "code",
   "execution_count": null,
   "metadata": {},
   "outputs": [],
   "source": []
  },
  {
   "cell_type": "markdown",
   "metadata": {},
   "source": [
    "📝 To recap, `ndarray` is the official name of the data type provided by NumPy, and `array` is both\n",
    "the informal name of this data type and the name of the function that we can use\n",
    "to create ndarrays.\n",
    "\n",
    "\n",
    "A $ 3D$ array is to a matrix as a solid block is to a rectangle. In other words,\n",
    "a rank $ 3 $ array is one having three axes, instead of just two.\n",
    "\n",
    "<img src=\"array_3D.png\" alt=\"drawing\" width=\"400\"/>\n",
    "\n",
    "__Exercise:__ What is the rank and shape of the array depicted above?\n",
    "\n",
    "Here's a concrete example of a $ 3D $ array of shape $ 2 \\times 2 \\times 2 $.\n",
    "Think of it as an array having $ 2 $ \"rows\",\n",
    "each of which is a $ 2 \\times 2 $ matrix."
   ]
  },
  {
   "cell_type": "code",
   "execution_count": 62,
   "metadata": {},
   "outputs": [
    {
     "name": "stdout",
     "output_type": "stream",
     "text": [
      "[[[1 2]\n",
      "  [3 4]]\n",
      "\n",
      " [[5 6]\n",
      "  [7 8]]]\n"
     ]
    }
   ],
   "source": [
    "A = np.array([[[1, 2],   # The \"first row\" is a 2x2 matrix\n",
    "               [3, 4]], \n",
    "\n",
    "              [[5, 6],   # The \"second row\" is also a 2x2 matrix\n",
    "               [7, 8]]])\n",
    "print(A)"
   ]
  },
  {
   "cell_type": "markdown",
   "metadata": {},
   "source": [
    "__Exercise:__ What happens if you delete the blank line inside the definition of $ \\mathbf A $ above?\n",
    "\n",
    "Note that a $ 3D $ array need not be a \"cube\" (i.e., have all three dimensions\n",
    "of the same length) as in the previous example.\n",
    "\n",
    "__Exercise:__ Build a three-dimensional array of shape $ (2, 3, 4) $. "
   ]
  },
  {
   "cell_type": "code",
   "execution_count": null,
   "metadata": {},
   "outputs": [],
   "source": []
  },
  {
   "cell_type": "markdown",
   "metadata": {},
   "source": [
    "There is no bound on the number of dimensions that an array can have, although\n",
    "for most applications, arrays of dimension greater than $ 3 $ are rarely used."
   ]
  },
  {
   "cell_type": "markdown",
   "metadata": {},
   "source": [
    "## $ \\S 3 $ Other ways to create arrays"
   ]
  },
  {
   "cell_type": "markdown",
   "metadata": {},
   "source": [
    "There are other ways of creating arrays that are often more convenient than through use of the `array` function. For instance,\n",
    "to instantiate an array of a desired shape filled with $ 0\\text{s} $, we can use the function `zeros`:"
   ]
  },
  {
   "cell_type": "code",
   "execution_count": 8,
   "metadata": {},
   "outputs": [
    {
     "name": "stdout",
     "output_type": "stream",
     "text": [
      "[[0. 0. 0. 0.]\n",
      " [0. 0. 0. 0.]\n",
      " [0. 0. 0. 0.]\n",
      " [0. 0. 0. 0.]]\n"
     ]
    }
   ],
   "source": [
    "Z = np.zeros((4, 4))  # The parameter of `zeros` is the shape you want the array to have\n",
    "print(Z)"
   ]
  },
  {
   "cell_type": "markdown",
   "metadata": {},
   "source": [
    "📝 Note the necessary double parentheses in this call, one to delimit the arguments of the function and the other to specify the shape, which is always a tuple.\n",
    "\n",
    "__Exercise:__ Create and print a $ 3D $ array of shape $ (3, 4, 5) $ filled with zeros."
   ]
  },
  {
   "cell_type": "code",
   "execution_count": null,
   "metadata": {},
   "outputs": [],
   "source": []
  },
  {
   "cell_type": "markdown",
   "metadata": {},
   "source": [
    "Arrays can also be automatically populated with $ 1\\text{s} $ by means of the function `ones`: "
   ]
  },
  {
   "cell_type": "code",
   "execution_count": 9,
   "metadata": {},
   "outputs": [
    {
     "name": "stdout",
     "output_type": "stream",
     "text": [
      "[[1. 1. 1.]\n",
      " [1. 1. 1.]]\n"
     ]
    }
   ],
   "source": [
    "U = np.ones((2, 3))\n",
    "print(U)"
   ]
  },
  {
   "cell_type": "markdown",
   "metadata": {},
   "source": [
    "__Exercise:__ Create a $ 1D $ array having $ 50 $ coordinates, all of them equal to $ 1 $."
   ]
  },
  {
   "cell_type": "code",
   "execution_count": null,
   "metadata": {},
   "outputs": [],
   "source": []
  },
  {
   "cell_type": "markdown",
   "metadata": {},
   "source": [
    "The `arange` function is much like the Python built-in `range`, but it returns an ndarray:"
   ]
  },
  {
   "cell_type": "code",
   "execution_count": 10,
   "metadata": {},
   "outputs": [
    {
     "name": "stdout",
     "output_type": "stream",
     "text": [
      "<class 'numpy.ndarray'> [0 1 2 3 4 5 6 7 8 9]\n"
     ]
    }
   ],
   "source": [
    "digits = np.arange(10)\n",
    "print(type(digits), digits)\n"
   ]
  },
  {
   "cell_type": "markdown",
   "metadata": {},
   "source": [
    "The full syntax is `arange(<start>, <stop>, <step>)`. Note that the starting\n",
    "value is included, but the stopping value is not (exactly as in vanilla `range`)."
   ]
  },
  {
   "cell_type": "code",
   "execution_count": 11,
   "metadata": {},
   "outputs": [
    {
     "name": "stdout",
     "output_type": "stream",
     "text": [
      "[4 6 8]\n"
     ]
    }
   ],
   "source": [
    "y =np.arange(4, 10, 2)\n",
    "print(y)"
   ]
  },
  {
   "cell_type": "markdown",
   "metadata": {},
   "source": [
    "One advantage of `arange` over `range` is that _it accepts arguments of type float_, for instance:"
   ]
  },
  {
   "cell_type": "code",
   "execution_count": 12,
   "metadata": {},
   "outputs": [
    {
     "name": "stdout",
     "output_type": "stream",
     "text": [
      "[0.1 0.2 0.3 0.4 0.5 0.6 0.7 0.8 0.9]\n"
     ]
    }
   ],
   "source": [
    "x = np.arange(0.1, 1, 0.1)\n",
    "print(x)"
   ]
  },
  {
   "cell_type": "markdown",
   "metadata": {},
   "source": [
    "However, this feature must be used with care, because sometimes rounding errors may lead to unexpected results, as in the following example:"
   ]
  },
  {
   "cell_type": "code",
   "execution_count": 13,
   "metadata": {},
   "outputs": [
    {
     "name": "stdout",
     "output_type": "stream",
     "text": [
      "[1.  1.1 1.2 1.3]\n",
      "Note that the value 1.3 was included!\n"
     ]
    }
   ],
   "source": [
    "print(np.arange(1, 1.3, 0.1))\n",
    "print(\"Note that the value 1.3 was included!\")"
   ]
  },
  {
   "cell_type": "markdown",
   "metadata": {},
   "source": [
    "__Exercise:__ For each item, create a $ 1D $ array containing the elements described:\n",
    "\n",
    "(a) All integers from $ 5 $  to $ 15 $ (inclusive), but represented as\n",
    "floating-point numbers.\n",
    "\n",
    "(b) The sequence of even numbers between $ 2 $ and $ 19 $.\n",
    "\n",
    "(c) All integers from $ 10 $ down to $ 1 $.\n",
    "\n",
    "(d) All numbers from $ -3.14 $ to $ 2.86 = -3.14 + 6 $, with a stride of $ 2 $."
   ]
  },
  {
   "cell_type": "code",
   "execution_count": null,
   "metadata": {},
   "outputs": [],
   "source": []
  },
  {
   "cell_type": "markdown",
   "metadata": {},
   "source": [
    "Alternatively, with `linspace` we can create an array containing linearly spaced\n",
    "values inside a specified interval. The syntax is similar to that of `arange`,\n",
    "except that the stop value in the second argument is included in the result, and\n",
    "_the third argument gives the number of values to be generated, instead of the\n",
    "step size_:"
   ]
  },
  {
   "cell_type": "code",
   "execution_count": 64,
   "metadata": {},
   "outputs": [
    {
     "name": "stdout",
     "output_type": "stream",
     "text": [
      "[ 0.  1.  2.  3.  4.  5.  6.  7.  8.  9. 10.] \n",
      "\n",
      "[ 0.          1.11111111  2.22222222  3.33333333  4.44444444  5.55555556\n",
      "  6.66666667  7.77777778  8.88888889 10.        ]\n"
     ]
    }
   ],
   "source": [
    "z = np.linspace(0, 10, 11)\n",
    "print(z, '\\n')\n",
    "\n",
    "w = np.linspace(0, 10, 10)\n",
    "print(w)"
   ]
  },
  {
   "cell_type": "markdown",
   "metadata": {},
   "source": [
    "Thus in general the syntax is `linspace(<start>, <stop (inclusive)>, <# \n",
    "elements>)`. We can exclude the stop value in `linspace` using `endpoint=False`:"
   ]
  },
  {
   "cell_type": "code",
   "execution_count": 51,
   "metadata": {},
   "outputs": [
    {
     "name": "stdout",
     "output_type": "stream",
     "text": [
      "[0. 1. 2. 3. 4. 5. 6. 7. 8. 9.]\n"
     ]
    }
   ],
   "source": [
    "print(np.linspace(0, 10, 10, endpoint=False))"
   ]
  },
  {
   "cell_type": "markdown",
   "metadata": {},
   "source": [
    "__Exercise:__ What happens to the result of `linspace` if the starting value is greater than the stopping value? What if they are equal? And what if the third argument is zero or negative? "
   ]
  },
  {
   "cell_type": "code",
   "execution_count": null,
   "metadata": {},
   "outputs": [],
   "source": []
  },
  {
   "cell_type": "markdown",
   "metadata": {},
   "source": [
    "## $ \\S 4 $ Accessing and modifying individual array elements"
   ]
  },
  {
   "cell_type": "markdown",
   "metadata": {},
   "source": [
    "Consider the following vector $ \\mathbf{a} $:"
   ]
  },
  {
   "cell_type": "code",
   "execution_count": 37,
   "metadata": {},
   "outputs": [
    {
     "name": "stdout",
     "output_type": "stream",
     "text": [
      "[1 2 3]\n"
     ]
    }
   ],
   "source": [
    "a = np.array([1, 2, 3])\n",
    "print(a)"
   ]
  },
  {
   "cell_type": "markdown",
   "metadata": {},
   "source": [
    "To access or modify the $ 0 $-th element of $ \\mathbf a $ (recall that we always\n",
    "count from $ 0 $ in Python), we use the same syntax as we would if it were a\n",
    "list:"
   ]
  },
  {
   "cell_type": "code",
   "execution_count": 38,
   "metadata": {},
   "outputs": [
    {
     "name": "stdout",
     "output_type": "stream",
     "text": [
      "1\n",
      "[-1  2  3]\n"
     ]
    }
   ],
   "source": [
    "print(a[0])  # Access 0-th element of `a`\n",
    "a[0] = -1    # Modify this element\n",
    "print(a)     # Print the result\n"
   ]
  },
  {
   "cell_type": "markdown",
   "metadata": {},
   "source": [
    "If we are dealing with a $ 2D $ array, we use `[i, j]` to access its $ (i, j) $-th entry, that is, the element in row $ i $ and column $ j $:"
   ]
  },
  {
   "cell_type": "code",
   "execution_count": 10,
   "metadata": {},
   "outputs": [
    {
     "name": "stdout",
     "output_type": "stream",
     "text": [
      "Before modifications:\n",
      "[[1. 1.]\n",
      " [1. 1.]] \n",
      "\n",
      "After modifications:\n",
      "[[1. 0.]\n",
      " [0. 1.]]\n"
     ]
    }
   ],
   "source": [
    "A = np.ones((2, 2))\n",
    "print(\"Before modifications:\")\n",
    "print(A, '\\n')\n",
    "\n",
    "A[0, 1] = 0\n",
    "A[1, 0] = 0 \n",
    "print(\"After modifications:\")\n",
    "print(A)"
   ]
  },
  {
   "cell_type": "markdown",
   "metadata": {},
   "source": [
    "In general, when dealing with an $ n $-dimensional array, use `[k_1, k_2, ..., k_n]` to access its element having indices $ k_1, k_2, \\cdots, k_n $, respectively."
   ]
  },
  {
   "cell_type": "markdown",
   "metadata": {},
   "source": [
    "__Exercise:__ Build a \"$ 3D $ identity array\" $ M $ of shape $ (5, 5, 5) $ by\n",
    "first populating it with zeros, then setting all elements with indices\n",
    "of the form $ (i, i, i) $ equal to $ 1 $. How could you use a `for` loop to do\n",
    "this? Can you set all five elements to $ 1 $ with just one instruction?"
   ]
  },
  {
   "cell_type": "code",
   "execution_count": 11,
   "metadata": {},
   "outputs": [],
   "source": [
    "# Populate M with zeros:\n",
    "# M = ...\n",
    "\n",
    "# Set diagonal elements equal to 1:\n",
    "# ...\n",
    "\n",
    "# Print the result:\n",
    "# print(M)\n"
   ]
  },
  {
   "cell_type": "markdown",
   "metadata": {},
   "source": []
  },
  {
   "cell_type": "markdown",
   "metadata": {},
   "source": [
    "## $ \\S 5 $ Slices\n",
    "\n",
    "NumPy arrays can be sliced in a similar way to lists, by using the `:`\n",
    "operator. More precisely, in the case of $ 1D $ arrays, the syntax is\n",
    "`array[<start>:<stop>:<step>]`"
   ]
  },
  {
   "cell_type": "markdown",
   "metadata": {},
   "source": [
    "__Exercise:__ Let $ \\mathbf a = (0, 1, \\cdots, 10) $.\n",
    "\n",
    "(a) Instantiate this array using `linspace` or `arange`.\n",
    "\n",
    "(b) Take a slice of $ \\mathbf a $ resulting in $ (0, 1, \\cdots, 4) $.\n",
    "\n",
    "(c) Slice $ \\mathbf a $ to obtain the array $ (5, 6, \\cdots, 10) $.\n",
    "\n",
    "(d) Construct a slice to retrieve the subarray $ (3, 5, 7, 9) $.\n",
    "\n",
    "(e) Take a full slice of $ \\mathbf a $, call it $ \\mathbf b $, and modify its $ 0\n",
    "$-th element. Is $ \\mathbf a $ affected?"
   ]
  },
  {
   "cell_type": "code",
   "execution_count": null,
   "metadata": {},
   "outputs": [],
   "source": []
  },
  {
   "cell_type": "markdown",
   "metadata": {},
   "source": [
    "📝 _Slicing an array only creates a view on the original array, not a copy_.\n",
    "This behavior is by design, for efficiency reasons. However, this means that\n",
    "modifying the data in the slice will also modify the original array. We will\n",
    "discuss later how to create independent copies."
   ]
  },
  {
   "cell_type": "markdown",
   "metadata": {},
   "source": [
    "We can use access multiple specific indices of an array as follows:."
   ]
  },
  {
   "cell_type": "code",
   "execution_count": 25,
   "metadata": {},
   "outputs": [
    {
     "name": "stdout",
     "output_type": "stream",
     "text": [
      "[2 5 7]\n"
     ]
    }
   ],
   "source": [
    "b = np.arange(11)\n",
    "print(b[[2, 5, 7]])  # Elements at indices 2, 5, and 7\n"
   ]
  },
  {
   "cell_type": "markdown",
   "metadata": {},
   "source": [
    "Slicing becomes more interesting with higher-dimensional arrays. For a $ 2D $\n",
    "array, we need to specify slices for both dimensions, separated by a comma."
   ]
  },
  {
   "cell_type": "code",
   "execution_count": 23,
   "metadata": {},
   "outputs": [
    {
     "name": "stdout",
     "output_type": "stream",
     "text": [
      "[[1 2 3]\n",
      " [4 5 6]\n",
      " [7 8 9]] \n",
      "\n",
      "[4 5 6] \n",
      "\n",
      "[3 6 9] \n",
      "\n",
      "[[2 3]\n",
      " [5 6]]\n"
     ]
    }
   ],
   "source": [
    "M = np.array([[1, 2, 3], [4, 5, 6], [7, 8, 9]])\n",
    "print(M, '\\n')\n",
    "\n",
    "# Accessing a specific row:\n",
    "print(M[1, :], '\\n')  # 'First' row\n",
    "\n",
    "# Accessing a specific column:\n",
    "print(M[:, 2], '\\n')  # 'Second' column\n",
    "\n",
    "# Sub-array slicing:\n",
    "print(M[0:2, 1:3])  # Top right 2x2 sub-array\n"
   ]
  },
  {
   "cell_type": "markdown",
   "metadata": {},
   "source": [
    "__Exercise:__ Create a $ 2D $ array of shape $ (4, 4) $ filled with your\n",
    "favorite integers and print it for reference.\n",
    "\n",
    "(a) Extract the last row using a slice.\n",
    "\n",
    "(b) Extract the column of index $ 3 $.\n",
    "\n",
    "(c) Extract a $ 2\\times 2 $ sub-array from the center of this array.\n",
    "\n",
    "(d) Extract the $ 3 \\times 2 $ lower-left corner of the array.\n",
    "\n",
    "(e) Extract the subarray consisting of columns indexed by $ 1 $ and $ 3 $ in two\n",
    "different ways: by specifying these columns explicitly, and by using a slice\n",
    "with step size $ 2 $."
   ]
  },
  {
   "cell_type": "code",
   "execution_count": null,
   "metadata": {},
   "outputs": [],
   "source": []
  },
  {
   "cell_type": "markdown",
   "metadata": {},
   "source": [
    "📝 All of the principles we have seen extend to arrays of higher dimensions. For\n",
    "each dimension, you can specify a `<start>:<stop>:<step>` slice, separated by\n",
    "commas.\n",
    "\n",
    "__Boolean indexing__ allows us to select elements from an array using an array\n",
    "of boolean values of the same shape. This method is particularly useful for\n",
    "filtering elements based on some condition. Here's an example:"
   ]
  },
  {
   "cell_type": "code",
   "execution_count": 5,
   "metadata": {},
   "outputs": [
    {
     "name": "stdout",
     "output_type": "stream",
     "text": [
      "Original array: [1 2 3 4 5]\n",
      "Filter:  [False False  True  True  True]\n",
      "Selected elements: [3 4 5]\n"
     ]
    }
   ],
   "source": [
    "v = np.array([1, 2, 3, 4, 5])\n",
    "print(\"Original array:\", v)\n",
    "\n",
    "# Create a boolean index array:\n",
    "filter = v > 2\n",
    "print(\"Filter: \", filter)\n",
    "\n",
    "# Use boolean indexing to select elements:\n",
    "selected_elements = v[filter]\n",
    "print(\"Selected elements:\", selected_elements)"
   ]
  },
  {
   "cell_type": "markdown",
   "metadata": {},
   "source": [
    "In NumPy, and Python in general, the Boolean value `True` is treated as\n",
    "equivalent to $ 1 $ in numerical contexts, and `False` is equivalent to\n",
    "$ 0 $. Thus, in the preceding example, we can find the number of elements\n",
    "greater than $ 2 $ by taking the sum of the entries in the filter:"
   ]
  },
  {
   "cell_type": "code",
   "execution_count": 10,
   "metadata": {},
   "outputs": [
    {
     "name": "stdout",
     "output_type": "stream",
     "text": [
      "Number of elements greater than two: 3\n"
     ]
    }
   ],
   "source": [
    "print(\"Number of elements greater than two:\", np.sum(filter))"
   ]
  },
  {
   "cell_type": "markdown",
   "metadata": {},
   "source": [
    "__Exercise:__ You're provided below with a dataset `rainfall_data` of daily\n",
    "rainfall measurements (in millimeters) in a city for four months (June to\n",
    "September), stored as a 2D NumPy array.  Each row represents a month, and each\n",
    "column represents a day.\n",
    "\n",
    "(a) Compute the average rainfall and the standard deviation of the sample\n",
    "across the entire period using the functions `np.mean` and `np.std`.\n",
    "\n",
    "(b) Identify days with above-average rainfall for each month, and calculate the\n",
    "percentage of such days in each month. _Hint:_ Use a for loop to iterate over\n",
    "each month/row of the dataset. Use a Boolean filter to find which days\n",
    "had greater than average rainfall and take the sum of the `True` values\n",
    "as discussed above to compute the percentages. "
   ]
  },
  {
   "cell_type": "code",
   "execution_count": 35,
   "metadata": {},
   "outputs": [],
   "source": [
    "np.random.seed(123456789)\n",
    "\n",
    "# Sample mean and standard deviation for each month (in mm):\n",
    "mean_rainfall = [1.5, 2.7, 2.7, 0.9]  # Average daily rainfall (mm) for June, July, August, September\n",
    "std_deviation = [1.5, 2, 2.5, 1.5]  # Variability in daily rainfall (mm)\n",
    "\n",
    "# Generating the 2D array of rainfall data:\n",
    "months = [\"June\", \"July\", \"August\", \"September\"]\n",
    "days_in_month = 30\n",
    "rainfall_data = np.zeros((4, days_in_month))\n",
    "\n",
    "for i in range(4):\n",
    "    # Simulate daily rainfall using a normal distribution:\n",
    "    rainfall_data[i, :] = np.clip(np.random.normal(mean_rainfall[i],\n",
    "                                  std_deviation[i], days_in_month), 0, None)\n",
    "# Round to 2 decimal digits:\n",
    "rainfall_data = np.round(rainfall_data, 2)"
   ]
  },
  {
   "cell_type": "code",
   "execution_count": 36,
   "metadata": {},
   "outputs": [
    {
     "name": "stdout",
     "output_type": "stream",
     "text": [
      "[[4.82 4.69 4.26 1.62 2.79 0.26 3.24 3.56 2.91 2.77 2.29 0.65 2.75 1.85\n",
      "  0.23 0.   1.55 2.07 0.3  0.25 0.   1.78 1.42 3.09 2.37 1.02 1.1  1.98\n",
      "  3.56 1.19]\n",
      " [3.25 3.03 1.83 2.89 0.   3.86 9.27 3.12 1.66 6.75 3.34 1.62 1.77 3.44\n",
      "  2.05 4.97 0.   0.19 2.66 4.4  1.84 2.44 0.76 0.   1.29 1.43 2.95 4.09\n",
      "  4.81 3.46]\n",
      " [3.49 1.97 4.84 1.42 0.52 3.14 1.3  1.48 1.29 0.71 4.79 1.14 1.37 0.43\n",
      "  6.15 2.31 1.46 4.01 3.85 0.56 0.65 4.01 4.39 1.43 2.33 6.08 7.46 3.95\n",
      "  7.37 2.54]\n",
      " [0.09 3.55 0.37 0.   1.54 1.46 0.61 0.   1.08 2.33 0.19 0.   0.   1.42\n",
      "  0.   2.57 1.65 2.28 0.48 0.48 4.24 0.48 0.   1.08 1.62 0.   2.26 2.73\n",
      "  0.   1.73]]\n"
     ]
    }
   ],
   "source": [
    "print(rainfall_data)"
   ]
  },
  {
   "cell_type": "code",
   "execution_count": null,
   "metadata": {},
   "outputs": [],
   "source": []
  },
  {
   "cell_type": "markdown",
   "metadata": {},
   "source": [
    "## $ \\S 6 $ Other NumPy features\n",
    "\n",
    "In summary, NumPy provides a high-performance multidimensional array object,\n",
    "along with a wide range of tools for working with these arrays. As we will see\n",
    "in the next notebook, arrays are far more efficient and convenient for numerical\n",
    "computation than Python's built-in data types such as lists, both in memory and\n",
    "in computational costs. NumPy is used in data analysis, machine learning,\n",
    "engineering and any other field that requires intensive numerical computation. It\n",
    "also serves as the basis for higher-level scientific computing libraries such as\n",
    "SciPy, Pandas, and scikit-learn.  Other features supplied by NumPy include (but are not limited to):\n",
    "* Basic statistical operations;\n",
    "* Random number generation;\n",
    "* Fourier transforms and signal processing;\n",
    "* Integration with various databases and file formats for data import/export.\n",
    "\n",
    "We will meet and use some of these in other notebooks."
   ]
  },
  {
   "cell_type": "markdown",
   "metadata": {},
   "source": []
  }
 ],
 "metadata": {
  "kernelspec": {
   "display_name": "Python 3",
   "language": "python",
   "name": "python3"
  },
  "language_info": {
   "codemirror_mode": {
    "name": "ipython",
    "version": 3
   },
   "file_extension": ".py",
   "mimetype": "text/x-python",
   "name": "python",
   "nbconvert_exporter": "python",
   "pygments_lexer": "ipython3",
   "version": "3.10.12"
  }
 },
 "nbformat": 4,
 "nbformat_minor": 2
}
